{
 "cells": [
  {
   "cell_type": "code",
   "execution_count": 1,
   "metadata": {},
   "outputs": [],
   "source": [
    "import numpy as np\r\n",
    "\r\n",
    "np.random.seed(42)"
   ]
  },
  {
   "cell_type": "code",
   "execution_count": 2,
   "metadata": {},
   "outputs": [
    {
     "data": {
      "text/plain": [
       "((75, 4), (75,), (75,))"
      ]
     },
     "execution_count": 2,
     "metadata": {},
     "output_type": "execute_result"
    }
   ],
   "source": [
    "# Imports\r\n",
    "from sklearn.model_selection import train_test_split\r\n",
    "from sklearn import datasets\r\n",
    "\r\n",
    "def accuracy(y_true, y_pred):\r\n",
    "    accuracy = np.sum(y_true == y_pred) / len(y_true)\r\n",
    "    return accuracy\r\n",
    "\r\n",
    "X, y = datasets.load_iris(return_X_y=True)\r\n",
    "X_train, X_test, y_train, y_test = train_test_split(X, y, test_size=0.5, random_state=42)\r\n",
    "X_train.shape, y_train.shape, y_test.shape"
   ]
  },
  {
   "cell_type": "code",
   "execution_count": 3,
   "metadata": {},
   "outputs": [],
   "source": [
    "class MyNaiveBayes:\r\n",
    "    def fit(self, X, y):\r\n",
    "        n_samples, n_features = X.shape\r\n",
    "        self.classes_ = np.unique(y.flatten())\r\n",
    "        self.n_classes_ = len(self.classes_)\r\n",
    "\r\n",
    "        self.mean_ = np.empty((self.n_classes_, n_features))\r\n",
    "        self.var_ = np.empty((self.n_classes_, n_features))\r\n",
    "        self.prior_proba_= np.empty(self.n_classes_)\r\n",
    "\r\n",
    "        for i, label in enumerate(self.classes_):\r\n",
    "            label_idx = (y == label)\r\n",
    "            X_label = X[label_idx]\r\n",
    "            self.mean_[i] = X_label.mean(axis=0)\r\n",
    "            self.var_[i] = X_label.var(axis=0)\r\n",
    "            self.prior_proba_[i] = X_label.shape[0] / n_samples\r\n",
    "    \r\n",
    "    def predict(self, X):\r\n",
    "        posterior_probas = np.empty((X.shape[0], self.n_classes_))\r\n",
    "        for i in range(self.n_classes_):\r\n",
    "            prior_proba = np.log(self.prior_proba_[i])\r\n",
    "            class_cond_proba = np.log(self._pdf(X, class_idx=i))\r\n",
    "            class_cond_proba = np.sum(class_cond_proba, axis=-1)\r\n",
    "            posterior_proba = prior_proba + class_cond_proba\r\n",
    "            posterior_probas[:, i] = posterior_proba\r\n",
    "\r\n",
    "        return np.argmax(posterior_probas, axis=-1)\r\n",
    "\r\n",
    "    def _pdf(self, X, class_idx):\r\n",
    "        mean = self.mean_[class_idx]\r\n",
    "        var = self.var_[class_idx]\r\n",
    "        numerator = np.exp(-((X - mean) ** 2) / (2 * var))\r\n",
    "        denominator = np.sqrt(2 * np.pi * var)\r\n",
    "        return numerator / denominator"
   ]
  },
  {
   "cell_type": "code",
   "execution_count": 4,
   "metadata": {},
   "outputs": [
    {
     "name": "stdout",
     "output_type": "stream",
     "text": [
      "My Implementation:\n",
      "Naive Bayes classification accuracy 0.9866666666666667\n",
      "Number of mislabeled points out of a total 75 points : 1\n"
     ]
    }
   ],
   "source": [
    "MyNB = MyNaiveBayes()\r\n",
    "MyNB.fit(X_train, y_train)\r\n",
    "y_pred = MyNB.predict(X_test)\r\n",
    "\r\n",
    "print(\"My Implementation:\")\r\n",
    "print(\"Naive Bayes classification accuracy\", accuracy(y_test, y_pred))\r\n",
    "print(\"Number of mislabeled points out of a total %d points : %d\"\r\n",
    "      % (X_test.shape[0], (y_test != y_pred).sum()))"
   ]
  },
  {
   "cell_type": "code",
   "execution_count": 5,
   "metadata": {},
   "outputs": [
    {
     "name": "stdout",
     "output_type": "stream",
     "text": [
      "Sklearn Implementation:\n",
      "Naive Bayes classification accuracy 0.9866666666666667\n",
      "Number of mislabeled points out of a total 75 points : 1\n"
     ]
    }
   ],
   "source": [
    "from sklearn.naive_bayes import GaussianNB\r\n",
    "\r\n",
    "gnb = GaussianNB()\r\n",
    "y_pred = gnb.fit(X_train, y_train).predict(X_test)\r\n",
    "print(\"Sklearn Implementation:\")\r\n",
    "print(\"Naive Bayes classification accuracy\", accuracy(y_test, y_pred))\r\n",
    "print(\"Number of mislabeled points out of a total %d points : %d\"\r\n",
    "      % (X_test.shape[0], (y_test != y_pred).sum()))"
   ]
  }
 ],
 "metadata": {
  "interpreter": {
   "hash": "6d46af94c2bbce495f1e668725902fa517c90b1782bcfe2fce0dd9868df553d3"
  },
  "kernelspec": {
   "display_name": "Python 3.8.10 64-bit ('base': conda)",
   "name": "python3"
  },
  "language_info": {
   "codemirror_mode": {
    "name": "ipython",
    "version": 3
   },
   "file_extension": ".py",
   "mimetype": "text/x-python",
   "name": "python",
   "nbconvert_exporter": "python",
   "pygments_lexer": "ipython3",
   "version": "3.8.10"
  },
  "orig_nbformat": 4
 },
 "nbformat": 4,
 "nbformat_minor": 2
}