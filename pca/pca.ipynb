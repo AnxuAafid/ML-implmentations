{
 "cells": [
  {
   "cell_type": "markdown",
   "metadata": {},
   "source": [
    "# Setup"
   ]
  },
  {
   "cell_type": "code",
   "execution_count": 1,
   "metadata": {},
   "outputs": [],
   "source": [
    "from sklearn.datasets import load_iris\n",
    "\n",
    "import os\n",
    "import pandas as pd\n",
    "import numpy as np\n",
    "%matplotlib inline\n",
    "import matplotlib as mpl\n",
    "import matplotlib.pyplot as plt\n",
    "import seaborn as sns\n",
    "\n",
    "# plt.style.use('fivethirtyeight')\n",
    "sns.set()\n",
    "plt.rcParams['figure.figsize'] = (12, 8)\n",
    "\n",
    "import warnings\n",
    "warnings.filterwarnings('ignore')\n",
    "\n",
    "np.random.seed(42)"
   ]
  },
  {
   "cell_type": "markdown",
   "metadata": {},
   "source": [
    "Build 3D dataset"
   ]
  },
  {
   "cell_type": "code",
   "execution_count": 2,
   "metadata": {},
   "outputs": [],
   "source": [
    "np.random.seed(4)\n",
    "m = 60\n",
    "w1, w2 = 0.1, 0.3\n",
    "noise = 0.1\n",
    "\n",
    "angles = np.random.rand(m) * 3 * np.pi / 2 - 0.5\n",
    "X = np.empty((m, 3))\n",
    "X[:, 0] = np.cos(angles) + np.sin(angles)/2 + noise * np.random.randn(m) / 2\n",
    "X[:, 1] = np.sin(angles) * 0.7 + noise * np.random.randn(m) / 2\n",
    "X[:, 2] = X[:, 0] * w1 + X[:, 1] * w2 + noise * np.random.randn(m)"
   ]
  },
  {
   "cell_type": "code",
   "execution_count": 3,
   "metadata": {},
   "outputs": [
    {
     "data": {
      "text/plain": [
       "(60, 3)"
      ]
     },
     "execution_count": 3,
     "metadata": {},
     "output_type": "execute_result"
    }
   ],
   "source": [
    "X.shape"
   ]
  },
  {
   "cell_type": "markdown",
   "metadata": {},
   "source": [
    "# Implementation"
   ]
  },
  {
   "cell_type": "code",
   "execution_count": 4,
   "metadata": {},
   "outputs": [],
   "source": [
    "from sklearn.base import BaseEstimator, TransformerMixin, ClusterMixin\r\n",
    "\r\n",
    "class MyPCA:\r\n",
    "    def __init__(self, n_components=None,\r\n",
    "                 verbose=0, random_state=42\r\n",
    "                ):\r\n",
    "        # initializing parameters used by the model\r\n",
    "        self.n_components = n_components\r\n",
    "        self.verbose = verbose\r\n",
    "        self.random_state = random_state\r\n",
    "        \r\n",
    "        # Attributes\r\n",
    "        # the principal components\r\n",
    "        self.components_ = None\r\n",
    "        # Equal to X.mean(axis=0)\r\n",
    "        self.mean_ = None\r\n",
    "        # Number of features in the training data\r\n",
    "        self.n_features_ = None\r\n",
    "        # Number of samples in the training data\r\n",
    "        self.n_samples_ = None\r\n",
    "\r\n",
    "    def fit(self, X):\r\n",
    "        self.mean_ = X.mean(axis=0)\r\n",
    "        # center the dataset\r\n",
    "        X = X - self.mean_\r\n",
    "        self.n_samples = m = X.shape[0]\r\n",
    "        self.n_features = n = X.shape[1]\r\n",
    "        \r\n",
    "        # Covariance matrix, shape of (m, m)\r\n",
    "        cov = np.cov(X.T)\r\n",
    "        # Eigenvectors and eigenvalues\r\n",
    "        # NOTE: The eigenvalue output by np.linalg.eig actually\r\n",
    "        # has already taken into account the degree of freedom, \r\n",
    "        # so they have already been divided by (m - 1),\r\n",
    "        # which results in the actual variance we want.\r\n",
    "        variances, eigenvectors = np.linalg.eig(cov)\r\n",
    "        eigenvalues = variances * (m - 1)\r\n",
    "        # eigenvector of ith PC -> v[:, i]\r\n",
    "        \r\n",
    "        # Sort them by eigenvalues in descending order.\r\n",
    "        # transpose the eigenvector to make it easier to index into\r\n",
    "        eigenvectors = eigenvectors.T\r\n",
    "        sorted_idxs = np.argsort(eigenvalues)[::-1]\r\n",
    "        eigenvectors = eigenvectors[sorted_idxs]\r\n",
    "        eigenvalues = eigenvalues[sorted_idxs]\r\n",
    "        variances = variances[sorted_idxs]\r\n",
    "        \r\n",
    "#         # or just use np.linalg.svd(X) to simplify the steps above\r\n",
    "#         #  where Vt is the transposed of eigenvectors we want\r\n",
    "#         #  and s contains the eigenvalues\r\n",
    "#         U, s, Vt = np.linalg.svd(X)\r\n",
    "#         # s = singular values\r\n",
    "#         # Vt = transposed of eigenvectors\r\n",
    "#         eigenvectors = Vt\r\n",
    "\r\n",
    "#         # singular values are the square root of eigenvalues,\r\n",
    "#         #  so eigenvalues are just the square of singular values\r\n",
    "#         eigenvalues = s ** 2\r\n",
    "#         variances = eigenvalues / (len(X) - 1)\r\n",
    "        \r\n",
    "        # Choose k PCs\r\n",
    "        self.components_ = eigenvectors[:self.n_components]\r\n",
    "        self.explained_variance_ = variances[:self.n_components]\r\n",
    "        self.explained_variance_ratio_ = self.explained_variance_ / np.sum(variances)\r\n",
    "        self.singular_values_ = np.sqrt(eigenvalues)[:self.n_components]\r\n",
    "    \r\n",
    "    def transform(self, X):\r\n",
    "        # Project the dataset onto the PCs\r\n",
    "        X = X - self.mean_\r\n",
    "        return np.dot(X, self.components_.T)\r\n",
    "                \r\n",
    "    def fit_transform(self, X):\r\n",
    "        self.fit(X)\r\n",
    "        return self.transform(X)"
   ]
  },
  {
   "cell_type": "code",
   "execution_count": 5,
   "metadata": {},
   "outputs": [
    {
     "data": {
      "text/plain": [
       "((150, 4), (150,))"
      ]
     },
     "execution_count": 5,
     "metadata": {},
     "output_type": "execute_result"
    }
   ],
   "source": [
    "data = load_iris()\n",
    "X = data.data\n",
    "y = data.target\n",
    "X.shape, y.shape"
   ]
  },
  {
   "cell_type": "code",
   "execution_count": 6,
   "metadata": {},
   "outputs": [
    {
     "name": "stdout",
     "output_type": "stream",
     "text": [
      "Eigenvectors shape: (2, 4)\n",
      "Shape of X: (150, 4)\n",
      "Shape of transformed X: (150, 2)\n"
     ]
    }
   ],
   "source": [
    "# Project the data onto the 2 primary principal components\n",
    "pca = MyPCA(2)\n",
    "pca.fit(X)\n",
    "X_projected = pca.transform(X)\n",
    "\n",
    "print(\"Eigenvectors shape:\", pca.components_.shape)\n",
    "print(\"Shape of X:\", X.shape)\n",
    "print(\"Shape of transformed X:\", X_projected.shape)"
   ]
  },
  {
   "cell_type": "code",
   "execution_count": 7,
   "metadata": {},
   "outputs": [],
   "source": [
    "from sklearn.decomposition import PCA\n",
    "sk_pca = PCA(2)\n",
    "sk_X_projected = sk_pca.fit_transform(X)"
   ]
  },
  {
   "cell_type": "code",
   "execution_count": 8,
   "metadata": {},
   "outputs": [
    {
     "name": "stdout",
     "output_type": "stream",
     "text": [
      "[[ 0.36138659 -0.08452251  0.85667061  0.3582892 ]\n",
      " [-0.65658877 -0.73016143  0.17337266  0.07548102]]\n",
      "[[ 0.36138659 -0.08452251  0.85667061  0.3582892 ]\n",
      " [ 0.65658877  0.73016143 -0.17337266 -0.07548102]]\n"
     ]
    }
   ],
   "source": [
    "print(pca.components_)\n",
    "print(sk_pca.components_)"
   ]
  },
  {
   "cell_type": "code",
   "execution_count": 9,
   "metadata": {},
   "outputs": [
    {
     "name": "stdout",
     "output_type": "stream",
     "text": [
      "[4.22824171 0.24267075]\n",
      "[4.22824171 0.24267075]\n"
     ]
    }
   ],
   "source": [
    "print(pca.explained_variance_)\n",
    "print(sk_pca.explained_variance_)"
   ]
  },
  {
   "cell_type": "code",
   "execution_count": 10,
   "metadata": {},
   "outputs": [
    {
     "name": "stdout",
     "output_type": "stream",
     "text": [
      "[0.92461872 0.05306648]\n",
      "[0.92461872 0.05306648]\n"
     ]
    }
   ],
   "source": [
    "print(pca.explained_variance_ratio_)\n",
    "print(sk_pca.explained_variance_ratio_)"
   ]
  },
  {
   "cell_type": "code",
   "execution_count": 11,
   "metadata": {},
   "outputs": [
    {
     "name": "stdout",
     "output_type": "stream",
     "text": [
      "[25.09996044  6.01314738]\n",
      "[25.09996044  6.01314738]\n"
     ]
    }
   ],
   "source": [
    "print(pca.singular_values_)\n",
    "print(sk_pca.singular_values_)"
   ]
  },
  {
   "cell_type": "code",
   "execution_count": 12,
   "metadata": {},
   "outputs": [
    {
     "data": {
      "text/plain": [
       "array([[-2.68412563, -0.31939725],\n",
       "       [-2.71414169,  0.17700123],\n",
       "       [-2.88899057,  0.14494943],\n",
       "       [-2.74534286,  0.31829898],\n",
       "       [-2.72871654, -0.32675451]])"
      ]
     },
     "execution_count": 12,
     "metadata": {},
     "output_type": "execute_result"
    }
   ],
   "source": [
    "X_projected[:5]"
   ]
  },
  {
   "cell_type": "code",
   "execution_count": 13,
   "metadata": {},
   "outputs": [
    {
     "data": {
      "text/plain": [
       "array([[-2.68412563,  0.31939725],\n",
       "       [-2.71414169, -0.17700123],\n",
       "       [-2.88899057, -0.14494943],\n",
       "       [-2.74534286, -0.31829898],\n",
       "       [-2.72871654,  0.32675451]])"
      ]
     },
     "execution_count": 13,
     "metadata": {},
     "output_type": "execute_result"
    }
   ],
   "source": [
    "# some differences in terms of negative signs, not sure why\n",
    "sk_X_projected[:5]"
   ]
  },
  {
   "cell_type": "markdown",
   "metadata": {},
   "source": [
    "# Visualizations"
   ]
  },
  {
   "cell_type": "code",
   "execution_count": 14,
   "metadata": {},
   "outputs": [
    {
     "data": {
      "image/png": "[encoded data removed]",
      "text/plain": [
       "<Figure size 864x576 with 1 Axes>"
      ]
     },
     "metadata": {},
     "output_type": "display_data"
    }
   ],
   "source": [
    "def plot_pca(X_projected, title=None):\n",
    "    x1 = X_projected[:, 0]\n",
    "    x2 = X_projected[:, 1]\n",
    "\n",
    "    scatter = plt.scatter(\n",
    "        x1, x2, c=y, edgecolor=\"none\", alpha=0.8, cmap=plt.cm.get_cmap(\"tab20b\", 3)\n",
    "    )\n",
    "\n",
    "    plt.xlabel(\"PC1\")\n",
    "    plt.ylabel(\"PC2\")\n",
    "    handles, labels = scatter.legend_elements()\n",
    "    labels = data.target_names\n",
    "    legend = plt.legend(handles, labels, loc=\"upper right\",\n",
    "                        title=\"Iris Plant\", fontsize=13,\n",
    "                        title_fontsize=13, framealpha=0.5)\n",
    "    plt.title(title)\n",
    "    plt.show()\n",
    "\n",
    "plot_pca(X_projected, title='My implementation')"
   ]
  },
  {
   "cell_type": "code",
   "execution_count": 15,
   "metadata": {},
   "outputs": [
    {
     "data": {
      "image/png": "[encoded data removed]",
      "text/plain": [
       "<Figure size 864x576 with 1 Axes>"
      ]
     },
     "metadata": {},
     "output_type": "display_data"
    }
   ],
   "source": [
    "plot_pca(sk_X_projected, title='Sklearn implementation')"
   ]
  },
  {
   "cell_type": "markdown",
   "metadata": {},
   "source": [
    "# Confusing problems between `np.linalg.svd` and `np.linalg.eig`"
   ]
  },
  {
   "cell_type": "code",
   "execution_count": 16,
   "metadata": {},
   "outputs": [],
   "source": [
    "# first method\r\n",
    "X_centered = X - X.mean(axis=0)\r\n",
    "U, s, Vt = np.linalg.svd(X_centered)\r\n",
    "# s = singular values\r\n",
    "# Vt = transposed of eigenvectors\r\n",
    "eigenvectors_1 = Vt.T\r\n",
    "\r\n",
    "# singular values are the square root of eigenvalues,\r\n",
    "#  so eigenvalues are just the square of singular values\r\n",
    "eigenvalues_1 = s ** 2\r\n",
    "variances_1 = eigenvalues_1 / (len(X) - 1)"
   ]
  },
  {
   "cell_type": "code",
   "execution_count": 17,
   "metadata": {},
   "outputs": [
    {
     "name": "stdout",
     "output_type": "stream",
     "text": [
      "variances_1 = array([4.22824171, 0.24267075, 0.0782095 , 0.02383509])\n",
      "sk_pca.explained_variance_ = array([4.22824171, 0.24267075])\n",
      "\n",
      "Vt = array([[ 0.36138659, -0.08452251,  0.85667061,  0.3582892 ],\n",
      "       [-0.65658877, -0.73016143,  0.17337266,  0.07548102],\n",
      "       [ 0.58202985, -0.59791083, -0.07623608, -0.54583143],\n",
      "       [ 0.31548719, -0.3197231 , -0.47983899,  0.75365743]])\n",
      "sk_pca.components_ = array([[ 0.36138659, -0.08452251,  0.85667061,  0.3582892 ],\n",
      "       [ 0.65658877,  0.73016143, -0.17337266, -0.07548102]])\n",
      "\n",
      "s = array([25.09996044,  6.01314738,  3.41368064,  1.88452351])\n",
      "sk_pca.singular_values_ = array([25.09996044,  6.01314738])\n"
     ]
    }
   ],
   "source": [
    "# comparing with sklearn, sklearn already picked the n_components\n",
    "print(f\"{variances_1 = }\")\n",
    "print(f\"{sk_pca.explained_variance_ = }\\n\")\n",
    "# some differences in the negative signs, not sure why\n",
    "print(f\"{Vt = }\")\n",
    "print(f\"{sk_pca.components_ = }\\n\")\n",
    "print(f\"{s = }\")\n",
    "print(f\"{sk_pca.singular_values_ = }\")"
   ]
  },
  {
   "cell_type": "code",
   "execution_count": 18,
   "metadata": {},
   "outputs": [],
   "source": [
    "# second method (used in our implementation above)\n",
    "cov = np.cov(X_centered.T)\n",
    "# according to the documentation,\n",
    "#  np.linalg.eig supposed to output eigenvalues,\n",
    "#  but it actually outputs the variances directly.\n",
    "variances_2, eigenvectors_2 = np.linalg.eig(cov)\n",
    "eigenvalues_2 = variances_2 * (len(X) - 1)\n",
    "# eigenvector of ith PC -> v[:, i]\n",
    "\n",
    "# Sort them by eigenvalues in descending order.\n",
    "sorted_idxs = np.argsort(eigenvalues_2)[::-1]\n",
    "eigenvectors_2 = eigenvectors_2[:, sorted_idxs]\n",
    "eigenvalues_2 = eigenvalues_2[sorted_idxs]"
   ]
  },
  {
   "cell_type": "code",
   "execution_count": 19,
   "metadata": {},
   "outputs": [
    {
     "name": "stdout",
     "output_type": "stream",
     "text": [
      "[4.22824171 0.24267075 0.0782095  0.02383509]\n",
      "[4.22824171 0.24267075 0.0782095  0.02383509]\n"
     ]
    }
   ],
   "source": [
    "# the problem is np.linalg.eig actually outputs variances directly\n",
    "#  instead of eigenvalues, this makes things very confusing because\n",
    "#  the documentations said it's supposed to output eigenvalues instead of variances\n",
    "print(eigenvalues_1 / (len(X) - 1))\n",
    "print(variances_2)"
   ]
  },
  {
   "cell_type": "code",
   "execution_count": 20,
   "metadata": {},
   "outputs": [
    {
     "data": {
      "text/plain": [
       "(array([[ 0.36138659, -0.65658877,  0.58202985,  0.31548719],\n",
       "        [-0.08452251, -0.73016143, -0.59791083, -0.3197231 ],\n",
       "        [ 0.85667061,  0.17337266, -0.07623608, -0.47983899],\n",
       "        [ 0.3582892 ,  0.07548102, -0.54583143,  0.75365743]]),\n",
       " array([[ 0.36138659, -0.65658877, -0.58202985,  0.31548719],\n",
       "        [-0.08452251, -0.73016143,  0.59791083, -0.3197231 ],\n",
       "        [ 0.85667061,  0.17337266,  0.07623608, -0.47983899],\n",
       "        [ 0.3582892 ,  0.07548102,  0.54583143,  0.75365743]]))"
      ]
     },
     "execution_count": 20,
     "metadata": {},
     "output_type": "execute_result"
    }
   ],
   "source": [
    "eigenvectors_1, eigenvectors_2"
   ]
  },
  {
   "cell_type": "code",
   "execution_count": 21,
   "metadata": {},
   "outputs": [
    {
     "data": {
      "text/plain": [
       "(array([630.0080142 ,  36.15794144,  11.65321551,   3.55142885]),\n",
       " array([630.0080142 ,  36.15794144,  11.65321551,   3.55142885]))"
      ]
     },
     "execution_count": 21,
     "metadata": {},
     "output_type": "execute_result"
    }
   ],
   "source": [
    "eigenvalues_1, eigenvalues_2"
   ]
  },
  {
   "cell_type": "markdown",
   "metadata": {},
   "source": [
    "**Conclusion**\r\n",
    "- Eigenvalues can also be regarded as variance, and sometimes eigenvalues have already taken into account the number of samples by dividing themselves by `(m - 1)`, where `m` is the number of samples."
   ]
  },
  {
   "cell_type": "code",
   "execution_count": null,
   "metadata": {},
   "outputs": [],
   "source": []
  }
 ],
 "metadata": {
  "interpreter": {
   "hash": "6d46af94c2bbce495f1e668725902fa517c90b1782bcfe2fce0dd9868df553d3"
  },
  "kernelspec": {
   "display_name": "Python 3.8.10 64-bit ('base': conda)",
   "name": "python3"
  },
  "language_info": {
   "codemirror_mode": {
    "name": "ipython",
    "version": 3
   },
   "file_extension": ".py",
   "mimetype": "text/x-python",
   "name": "python",
   "nbconvert_exporter": "python",
   "pygments_lexer": "ipython3",
   "version": "3.8.10"
  }
 },
 "nbformat": 4,
 "nbformat_minor": 5
}