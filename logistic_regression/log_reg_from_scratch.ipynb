{
 "cells": [
  {
   "cell_type": "markdown",
   "id": "466dee02-2e8c-4ddf-9246-6ecb94c1fb7f",
   "metadata": {},
   "source": [
    "# Setup"
   ]
  },
  {
   "cell_type": "code",
   "execution_count": 1,
   "id": "fe7b0adc-186c-4683-9cb5-28d1033dc054",
   "metadata": {},
   "outputs": [],
   "source": [
    "import time\n",
    "import numpy as np\n",
    "import pandas as pd\n",
    "import matplotlib.pyplot as plt\n",
    "import seaborn as sns\n",
    "%matplotlib inline\n",
    "\n",
    "from sklearn.datasets import load_iris\n",
    "from sklearn.linear_model import LogisticRegression\n",
    "from sklearn.model_selection import train_test_split, GridSearchCV, cross_val_score\n",
    "from sklearn.preprocessing import StandardScaler\n",
    "\n",
    "# import tensorflow as tf\n",
    "\n",
    "plt.style.use('fivethirtyeight')\n",
    "plt.rcParams['figure.figsize'] = (12, 8)\n",
    "\n",
    "import warnings\n",
    "warnings.filterwarnings('ignore')"
   ]
  },
  {
   "cell_type": "code",
   "execution_count": 2,
   "id": "cb4ebc18-ebc0-4475-8bd9-a8151a0690d8",
   "metadata": {},
   "outputs": [],
   "source": [
    "np.random.seed(42)"
   ]
  },
  {
   "cell_type": "code",
   "execution_count": 3,
   "id": "c6479785-a1fe-49b9-8de7-29de0d268709",
   "metadata": {},
   "outputs": [
    {
     "data": {
      "text/html": [
       "<div>\n",
       "<style scoped>\n",
       "    .dataframe tbody tr th:only-of-type {\n",
       "        vertical-align: middle;\n",
       "    }\n",
       "\n",
       "    .dataframe tbody tr th {\n",
       "        vertical-align: top;\n",
       "    }\n",
       "\n",
       "    .dataframe thead th {\n",
       "        text-align: right;\n",
       "    }\n",
       "</style>\n",
       "<table border=\"1\" class=\"dataframe\">\n",
       "  <thead>\n",
       "    <tr style=\"text-align: right;\">\n",
       "      <th></th>\n",
       "      <th>age</th>\n",
       "      <th>sex</th>\n",
       "      <th>cp</th>\n",
       "      <th>trestbps</th>\n",
       "      <th>chol</th>\n",
       "      <th>fbs</th>\n",
       "      <th>restecg</th>\n",
       "      <th>thalach</th>\n",
       "      <th>exang</th>\n",
       "      <th>oldpeak</th>\n",
       "      <th>slope</th>\n",
       "      <th>ca</th>\n",
       "      <th>thal</th>\n",
       "      <th>target</th>\n",
       "    </tr>\n",
       "  </thead>\n",
       "  <tbody>\n",
       "    <tr>\n",
       "      <th>0</th>\n",
       "      <td>63</td>\n",
       "      <td>1</td>\n",
       "      <td>3</td>\n",
       "      <td>145</td>\n",
       "      <td>233</td>\n",
       "      <td>1</td>\n",
       "      <td>0</td>\n",
       "      <td>150</td>\n",
       "      <td>0</td>\n",
       "      <td>2.3</td>\n",
       "      <td>0</td>\n",
       "      <td>0</td>\n",
       "      <td>1</td>\n",
       "      <td>1</td>\n",
       "    </tr>\n",
       "    <tr>\n",
       "      <th>1</th>\n",
       "      <td>37</td>\n",
       "      <td>1</td>\n",
       "      <td>2</td>\n",
       "      <td>130</td>\n",
       "      <td>250</td>\n",
       "      <td>0</td>\n",
       "      <td>1</td>\n",
       "      <td>187</td>\n",
       "      <td>0</td>\n",
       "      <td>3.5</td>\n",
       "      <td>0</td>\n",
       "      <td>0</td>\n",
       "      <td>2</td>\n",
       "      <td>1</td>\n",
       "    </tr>\n",
       "    <tr>\n",
       "      <th>2</th>\n",
       "      <td>41</td>\n",
       "      <td>0</td>\n",
       "      <td>1</td>\n",
       "      <td>130</td>\n",
       "      <td>204</td>\n",
       "      <td>0</td>\n",
       "      <td>0</td>\n",
       "      <td>172</td>\n",
       "      <td>0</td>\n",
       "      <td>1.4</td>\n",
       "      <td>2</td>\n",
       "      <td>0</td>\n",
       "      <td>2</td>\n",
       "      <td>1</td>\n",
       "    </tr>\n",
       "    <tr>\n",
       "      <th>3</th>\n",
       "      <td>56</td>\n",
       "      <td>1</td>\n",
       "      <td>1</td>\n",
       "      <td>120</td>\n",
       "      <td>236</td>\n",
       "      <td>0</td>\n",
       "      <td>1</td>\n",
       "      <td>178</td>\n",
       "      <td>0</td>\n",
       "      <td>0.8</td>\n",
       "      <td>2</td>\n",
       "      <td>0</td>\n",
       "      <td>2</td>\n",
       "      <td>1</td>\n",
       "    </tr>\n",
       "    <tr>\n",
       "      <th>4</th>\n",
       "      <td>57</td>\n",
       "      <td>0</td>\n",
       "      <td>0</td>\n",
       "      <td>120</td>\n",
       "      <td>354</td>\n",
       "      <td>0</td>\n",
       "      <td>1</td>\n",
       "      <td>163</td>\n",
       "      <td>1</td>\n",
       "      <td>0.6</td>\n",
       "      <td>2</td>\n",
       "      <td>0</td>\n",
       "      <td>2</td>\n",
       "      <td>1</td>\n",
       "    </tr>\n",
       "  </tbody>\n",
       "</table>\n",
       "</div>"
      ],
      "text/plain": [
       "   age  sex  cp  trestbps  chol  fbs  restecg  thalach  exang  oldpeak  slope  \\\n",
       "0   63    1   3       145   233    1        0      150      0      2.3      0   \n",
       "1   37    1   2       130   250    0        1      187      0      3.5      0   \n",
       "2   41    0   1       130   204    0        0      172      0      1.4      2   \n",
       "3   56    1   1       120   236    0        1      178      0      0.8      2   \n",
       "4   57    0   0       120   354    0        1      163      1      0.6      2   \n",
       "\n",
       "   ca  thal  target  \n",
       "0   0     1       1  \n",
       "1   0     2       1  \n",
       "2   0     2       1  \n",
       "3   0     2       1  \n",
       "4   0     2       1  "
      ]
     },
     "execution_count": 3,
     "metadata": {},
     "output_type": "execute_result"
    }
   ],
   "source": [
    "# dataset: https://www.kaggle.com/ronitf/heart-disease-uci\n",
    "df = pd.read_csv('heart.csv')\n",
    "df.head()"
   ]
  },
  {
   "cell_type": "code",
   "execution_count": 4,
   "id": "671cdddc-bf8a-4651-b578-ab0ceefcaff2",
   "metadata": {},
   "outputs": [
    {
     "data": {
      "text/plain": [
       "(303, 14)"
      ]
     },
     "execution_count": 4,
     "metadata": {},
     "output_type": "execute_result"
    }
   ],
   "source": [
    "df.shape"
   ]
  },
  {
   "cell_type": "code",
   "execution_count": 5,
   "id": "86154c03-cf31-4b99-854a-b6e847a8e07d",
   "metadata": {},
   "outputs": [
    {
     "data": {
      "text/plain": [
       "age           int64\n",
       "sex           int64\n",
       "cp            int64\n",
       "trestbps      int64\n",
       "chol          int64\n",
       "fbs           int64\n",
       "restecg       int64\n",
       "thalach       int64\n",
       "exang         int64\n",
       "oldpeak     float64\n",
       "slope         int64\n",
       "ca            int64\n",
       "thal          int64\n",
       "target        int64\n",
       "dtype: object"
      ]
     },
     "execution_count": 5,
     "metadata": {},
     "output_type": "execute_result"
    }
   ],
   "source": [
    "df.dtypes"
   ]
  },
  {
   "cell_type": "code",
   "execution_count": 6,
   "id": "2fd32427-78c7-48fa-b10c-28b52e2db1e4",
   "metadata": {},
   "outputs": [],
   "source": [
    "# data = load_breast_cancer(as_frame=True)\n",
    "# df = data.frame.copy()\n",
    "# df.head()"
   ]
  },
  {
   "cell_type": "code",
   "execution_count": 7,
   "id": "19c197fe-8429-4258-8455-bb89f3982d50",
   "metadata": {},
   "outputs": [],
   "source": [
    "# data.target_names"
   ]
  },
  {
   "cell_type": "code",
   "execution_count": 8,
   "id": "c4ed5e6f-b30f-47c0-9a86-916029087cf3",
   "metadata": {},
   "outputs": [],
   "source": [
    "# iris2encoded = {k: v for k, v in zip(df.target.unique(), data.target_names)}\n",
    "# iris2encoded"
   ]
  },
  {
   "cell_type": "code",
   "execution_count": 9,
   "id": "56d8ac69-d60a-4e71-818a-3e905cfb7185",
   "metadata": {},
   "outputs": [],
   "source": [
    "df['target'] = df.target.astype(int)"
   ]
  },
  {
   "cell_type": "code",
   "execution_count": 10,
   "id": "61bb982d-9be0-4d2c-9b61-e0eea866bfd4",
   "metadata": {},
   "outputs": [
    {
     "data": {
      "text/plain": [
       "1    165\n",
       "0    138\n",
       "Name: target, dtype: int64"
      ]
     },
     "execution_count": 10,
     "metadata": {},
     "output_type": "execute_result"
    }
   ],
   "source": [
    "df.target.value_counts()"
   ]
  },
  {
   "cell_type": "code",
   "execution_count": 11,
   "id": "d07c2829-fd99-46f4-8a78-004963499550",
   "metadata": {},
   "outputs": [
    {
     "data": {
      "text/plain": [
       "array([1, 0])"
      ]
     },
     "execution_count": 11,
     "metadata": {},
     "output_type": "execute_result"
    }
   ],
   "source": [
    "df.target.unique()"
   ]
  },
  {
   "cell_type": "code",
   "execution_count": 12,
   "id": "6e28eda9-eb96-4574-ba93-294f7a90cf42",
   "metadata": {},
   "outputs": [
    {
     "data": {
      "image/png": "[encoded data removed]",
      "text/plain": [
       "<Figure size 864x576 with 1 Axes>"
      ]
     },
     "metadata": {},
     "output_type": "display_data"
    }
   ],
   "source": [
    "col_idx = 0\n",
    "plt.scatter(df.iloc[:, col_idx], df.target, c=df.target, cmap='tab20b')\n",
    "plt.xlabel(df.columns[col_idx])\n",
    "plt.ylabel('Class');"
   ]
  },
  {
   "cell_type": "markdown",
   "id": "1aacab26-172b-4eb8-b4bd-a5639dda1fe2",
   "metadata": {},
   "source": [
    "# Preparing data"
   ]
  },
  {
   "cell_type": "code",
   "execution_count": 13,
   "id": "e0f5401f-92aa-4111-ba1b-e6ee6c4ed781",
   "metadata": {},
   "outputs": [],
   "source": [
    "# X, y = data.data, data.target\n",
    "# X.shape, y.shape"
   ]
  },
  {
   "cell_type": "code",
   "execution_count": 14,
   "id": "d7d065ea-5225-42bf-b915-b6313f3d9d2f",
   "metadata": {},
   "outputs": [
    {
     "data": {
      "text/plain": [
       "((303, 13), (303,))"
      ]
     },
     "execution_count": 14,
     "metadata": {},
     "output_type": "execute_result"
    }
   ],
   "source": [
    "X = df.drop(columns='target')\n",
    "y = df['target']\n",
    "X.shape, y.shape"
   ]
  },
  {
   "cell_type": "code",
   "execution_count": 15,
   "id": "50e24c48-431e-459b-97af-c8ec4b9f8d03",
   "metadata": {},
   "outputs": [
    {
     "data": {
      "text/plain": [
       "((242,), (61,))"
      ]
     },
     "execution_count": 15,
     "metadata": {},
     "output_type": "execute_result"
    }
   ],
   "source": [
    "X_train, X_test, y_train, y_test = train_test_split(X, y, test_size=0.2, random_state=42)\n",
    "y_train.shape, y_test.shape"
   ]
  },
  {
   "cell_type": "code",
   "execution_count": 16,
   "id": "b381eca2-c486-44fe-8253-804ffff333f3",
   "metadata": {},
   "outputs": [
    {
     "data": {
      "text/plain": [
       "((242, 1), (61, 1))"
      ]
     },
     "execution_count": 16,
     "metadata": {},
     "output_type": "execute_result"
    }
   ],
   "source": [
    "# VERY IMPORTANT STEP\n",
    "y_train = y_train.values.reshape(-1, 1)\n",
    "y_test = y_test.values.reshape(-1, 1)\n",
    "y_train.shape, y_test.shape"
   ]
  },
  {
   "cell_type": "code",
   "execution_count": 17,
   "id": "f2ab8d31-6166-4ed9-9128-5b77a6f71dca",
   "metadata": {},
   "outputs": [],
   "source": [
    "scaler = StandardScaler()\n",
    "X_train = scaler.fit_transform(X_train)\n",
    "X_test = scaler.transform(X_test)"
   ]
  },
  {
   "cell_type": "code",
   "execution_count": 18,
   "id": "051b04fa-5183-4050-9a35-f8a1905a99df",
   "metadata": {},
   "outputs": [
    {
     "data": {
      "text/plain": [
       "(303, 14)"
      ]
     },
     "execution_count": 18,
     "metadata": {},
     "output_type": "execute_result"
    }
   ],
   "source": [
    "full_data = df.values\n",
    "full_data.shape"
   ]
  },
  {
   "cell_type": "markdown",
   "id": "5c7941b0-69c2-462f-80e7-efaeb9d66393",
   "metadata": {},
   "source": [
    "# Implementation"
   ]
  },
  {
   "attachments": {
    "2877b882-a612-49b3-9a42-24450f9461f5.png": {
     "image/png": "[encoded data removed]"
    }
   },
   "cell_type": "markdown",
   "id": "ae7d2353-ca9e-4a11-a1fd-12f0f0271900",
   "metadata": {},
   "source": [
    "![image.png](attachment:2877b882-a612-49b3-9a42-24450f9461f5.png)\n",
    "\n",
    "https://www.coursera.org/learn/machine-learning/supplement/0hpMl/simplified-cost-function-and-gradient-descent"
   ]
  },
  {
   "cell_type": "markdown",
   "id": "bbcd946e-d9e6-4668-be93-3a01c72f805a",
   "metadata": {},
   "source": [
    "<pre>\n",
    "NOTE: Capital letters are used to denote variables in matrix form.\n",
    "@ is the operator for matrix multiplication, also known as dot product.\n",
    "\n",
    "- Need to use X @ W instead of W @ X due to the nature of matrix multiplication.\n",
    "Best fit equation for logits: y_proba = X @ W + b\n",
    "Cost function is cross-entropy loss, or log loss: \n",
    "J = (-1 / m) * (y.T @ np.log(y_proba) + (1 - y).T @ np.log(1 - y_proba))\n",
    "  = (-1 / m) * (y.T @ np.log(X @ W + b) + (1 - y).T @ np.log(1 - X @ W - b))\n",
    "\n",
    "- Dot product already includes the operation of summing up along the corresponding axis,\n",
    "therefore np.sum is not required.\n",
    "\n",
    "dW = (1 / m) * (X.T @ (y_proba - y))\n",
    "db = (1 / m) * np.sum(y_proba - y)\n",
    "</pre>\n",
    "\n",
    "More references for deriving the derivatives: <br>\n",
    "- https://medium.com/analytics-vidhya/derivative-of-log-loss-function-for-logistic-regression-9b832f025c2d\n",
    "- https://en.wikipedia.org/wiki/Cross_entropy\n",
    "- https://www.kdnuggets.com/2016/07/softmax-regression-related-logistic-regression.html"
   ]
  },
  {
   "cell_type": "code",
   "execution_count": 19,
   "id": "b775b57f-cb1c-4260-9486-62500efd6bd0",
   "metadata": {
    "tags": []
   },
   "outputs": [],
   "source": [
    "# set a seed for reproducible results\n",
    "np.random.seed(42)\n",
    "\n",
    "def init_params(X):\n",
    "    \"\"\"Randomly initializing parameters\"\"\"\n",
    "    print(\"[INFO] Initialized parameters.\")\n",
    "    n_features = X.shape[1]  # number of features\n",
    "    params = {}\n",
    "    params['coef'] = np.random.randn(n_features, 1)  # the matrix for slope coefficients\n",
    "    params['intercept'] = np.random.randn(1, 1)  # the y-intercept\n",
    "    return params\n",
    "\n",
    "def get_logits(X, params):\n",
    "    return X @ params['coef'] + params['intercept']\n",
    "\n",
    "def predict_proba(X, params):\n",
    "    \"\"\"\n",
    "    Basically identical to sigmoid function, \n",
    "    also known as logistic function.\n",
    "    Used to get probability for binary classification.\n",
    "    \"\"\"\n",
    "    if 'coef' not in params:\n",
    "        params = init_params(X)\n",
    "    logits = get_logits(X, params)\n",
    "    return 1 / (1 + np.exp(-logits))\n",
    "\n",
    "def fit(X, y, learning_rate=0.05, iterations=1000):\n",
    "    if isinstance(X, pd.DataFrame):\n",
    "        # convert Dataframe to numpy for faster computations \n",
    "        X = X.values\n",
    "    params = init_params(X)\n",
    "    m = X.shape[0]  # number of samples\n",
    "    \n",
    "    print(\"[INFO] Training ...\")\n",
    "    for i in range(iterations):\n",
    "        # make predictions by computing probability\n",
    "        y_proba = predict_proba(X, params)\n",
    "        \n",
    "        # calculate gradients via derivatives with loss function (refer above)\n",
    "        dW = (1 / m) * (X.T @ (y_proba - y))\n",
    "        db = (1 / m) * np.sum(y_proba - y)\n",
    "        \n",
    "        # use gradient descent to update parameters\n",
    "        # parameter = parameter - learning_rate * derivative_of_parameter\n",
    "        params['coef'] -= (learning_rate * dW)\n",
    "        params['intercept'] -= (learning_rate * db)\n",
    "    \n",
    "    return params\n",
    "\n",
    "def predict(X, params, threshold=0.5):\n",
    "    y_proba = predict_proba(X, params)\n",
    "    y_pred = np.where(y_proba > threshold, 1, 0)\n",
    "    return y_pred"
   ]
  },
  {
   "cell_type": "code",
   "execution_count": 20,
   "id": "9c508713-9c39-4047-a944-8e40830698fc",
   "metadata": {},
   "outputs": [
    {
     "data": {
      "text/plain": [
       "(242, 1)"
      ]
     },
     "execution_count": 20,
     "metadata": {},
     "output_type": "execute_result"
    }
   ],
   "source": [
    "y_train.shape"
   ]
  },
  {
   "cell_type": "code",
   "execution_count": 21,
   "id": "23a761be-cf16-436a-a5eb-bcdb3c9292bf",
   "metadata": {},
   "outputs": [
    {
     "name": "stdout",
     "output_type": "stream",
     "text": [
      "[INFO] Initialized parameters.\n",
      "[INFO] Training ...\n"
     ]
    },
    {
     "data": {
      "text/plain": [
       "((13, 1), (1, 1))"
      ]
     },
     "execution_count": 21,
     "metadata": {},
     "output_type": "execute_result"
    }
   ],
   "source": [
    "params = fit(X_train, y_train, learning_rate=0.05, iterations=1000)\n",
    "params['coef'].shape, params['intercept'].shape"
   ]
  },
  {
   "cell_type": "code",
   "execution_count": 22,
   "id": "f0411e1a-8f41-45f8-bd3e-16b92740b1ec",
   "metadata": {},
   "outputs": [
    {
     "data": {
      "text/plain": [
       "(61, 1)"
      ]
     },
     "execution_count": 22,
     "metadata": {},
     "output_type": "execute_result"
    }
   ],
   "source": [
    "y_pred = predict(X_test, params)\n",
    "y_pred.shape"
   ]
  },
  {
   "cell_type": "code",
   "execution_count": 23,
   "id": "0e655864-5178-46d8-ab61-c5745190df15",
   "metadata": {},
   "outputs": [
    {
     "name": "stdout",
     "output_type": "stream",
     "text": [
      "My Implementation:\n",
      "0.8524590163934426\n",
      "[[25  4]\n",
      " [ 5 27]]\n"
     ]
    }
   ],
   "source": [
    "from sklearn.metrics import accuracy_score, confusion_matrix\n",
    "print(\"My Implementation:\")\n",
    "print(accuracy_score(y_test, y_pred))\n",
    "print(confusion_matrix(y_test, y_pred))"
   ]
  },
  {
   "cell_type": "code",
   "execution_count": 24,
   "id": "9d0a25ad-6962-42b7-a1e6-890934cf925f",
   "metadata": {},
   "outputs": [
    {
     "name": "stdout",
     "output_type": "stream",
     "text": [
      "Scikit-learn Implementation:\n",
      "0.8524590163934426\n",
      "[[25  4]\n",
      " [ 5 27]]\n"
     ]
    }
   ],
   "source": [
    "# penalty='none' for no regularization\n",
    "# solver='sag' for closer result with normal gradient descent\n",
    "log_reg = LogisticRegression(penalty='none', solver='sag', max_iter=1000, random_state=42)\n",
    "log_reg.fit(X_train, y_train)\n",
    "sk_y_pred = log_reg.predict(X_test)\n",
    "print(\"Scikit-learn Implementation:\")\n",
    "print(accuracy_score(y_test, sk_y_pred))\n",
    "print(confusion_matrix(y_test, sk_y_pred))"
   ]
  },
  {
   "cell_type": "code",
   "execution_count": 25,
   "id": "4058bbed-f617-4c25-92f0-dc3c71a15738",
   "metadata": {},
   "outputs": [
    {
     "data": {
      "text/plain": [
       "0.8179421768707483"
      ]
     },
     "execution_count": 25,
     "metadata": {},
     "output_type": "execute_result"
    }
   ],
   "source": [
    "log_reg = LogisticRegression(penalty='none', solver='sag', random_state=42)\n",
    "np.mean(cross_val_score(log_reg, X_train, y_train, cv=5))"
   ]
  },
  {
   "cell_type": "markdown",
   "id": "fa62b770-6abe-4789-8acc-788448986131",
   "metadata": {},
   "source": [
    "## Comparing solvers"
   ]
  },
  {
   "cell_type": "code",
   "execution_count": 26,
   "id": "5f679c62-15f5-4cad-9d08-284b3ba1f04d",
   "metadata": {},
   "outputs": [
    {
     "name": "stdout",
     "output_type": "stream",
     "text": [
      "Solver\t\tAccuracy\n",
      "----------\t--------\n",
      "liblinear     \t0.818\n",
      "newton-cg     \t0.818\n",
      "lbfgs     \t0.818\n",
      "sag     \t0.818\n",
      "saga     \t0.818\n"
     ]
    }
   ],
   "source": [
    "# referring https://towardsdatascience.com/dont-sweat-the-solver-stuff-aea7cddc3451\n",
    "solver_list = ['liblinear', 'newton-cg', 'lbfgs', 'sag', 'saga']\n",
    "params = dict(solver=solver_list)\n",
    "log_reg = LogisticRegression(C=1, random_state=42)\n",
    "clf = GridSearchCV(log_reg, params, cv=5)\n",
    "clf.fit(X_train, y_train.reshape(-1))\n",
    "scores = clf.cv_results_['mean_test_score']\n",
    "\n",
    "print(\"Solver\\t\\tAccuracy\")\n",
    "print(\"-\" * 10 + \"\\t\" + \"-\" * 8)\n",
    "for score, solver in zip(scores, solver_list):\n",
    "    print(f\"{solver}     \\t{score:.3f}\" )"
   ]
  },
  {
   "cell_type": "markdown",
   "id": "6b34c0fd-f5f6-4c85-8833-dd2bc65c1d78",
   "metadata": {},
   "source": [
    "## Class approach"
   ]
  },
  {
   "cell_type": "code",
   "execution_count": 27,
   "id": "fc57cd62-60c7-4271-a8a9-f0a966e07c58",
   "metadata": {},
   "outputs": [],
   "source": [
    "from sklearn.base import BaseEstimator, ClassifierMixin\n",
    "\n",
    "class MyLogisticRegBinary(BaseEstimator, ClassifierMixin):\n",
    "    def __init__(self):\n",
    "        self.params = {}\n",
    "        self.verbose = 0\n",
    "\n",
    "    def init_params(self, X):\n",
    "        \"\"\"Randomly initializing parameters\"\"\"\n",
    "        n_features = X.shape[1]  # number of features\n",
    "        # the matrix for slope coefficients\n",
    "        self.params['coef'] = np.random.randn(n_features, 1)\n",
    "        # the y-intercept\n",
    "        self.params['intercept'] = np.random.randn(1, 1)\n",
    "        if self.verbose:\n",
    "            print(\"[INFO] Initialized parameters.\")\n",
    "            print(f\"Shape of coefficient matrix: {self.params['coef'].shape}\")\n",
    "            print(f\"Shape of intercept matrix: {self.params['intercept'].shape}\")\n",
    "\n",
    "    def get_logits(self, X, y=None):\n",
    "        # logits = log(odds) = X@W + b\n",
    "        if 'coef' not in self.params:\n",
    "            # initialize the parameters if haven't\n",
    "            self.init_params(X)\n",
    "        return X @ self.params['coef'] + self.params['intercept']\n",
    "\n",
    "    def predict_proba(self, X, y=None):\n",
    "        \"\"\"\n",
    "        Sigmoid function, aka logistic function.\n",
    "        Used to get probability for binary classification.\n",
    "        \"\"\"\n",
    "        logits = self.get_logits(X)\n",
    "        return 1 / (1 + np.exp(-logits))\n",
    "\n",
    "    def fit(self, X, y, learning_rate=0.05, iterations=1000, verbose=0):\n",
    "        # set verbose to 1 to see the entire training progress\n",
    "        self.verbose = verbose\n",
    "        \n",
    "        if isinstance(X, pd.DataFrame):\n",
    "            # convert Dataframe to numpy for faster computations \n",
    "            X = X.values\n",
    "        # initialize parameters\n",
    "        self.init_params(X)\n",
    "        m = X.shape[0]  # number of samples\n",
    "    \n",
    "        if verbose:\n",
    "            print(\"[INFO] Training ...\")\n",
    "        for i in range(1, iterations + 1):\n",
    "            # make predictions by computing probability\n",
    "            y_proba = self.predict_proba(X)\n",
    "            \n",
    "            # calculate the binary cross-entropy loss\n",
    "            loss = - (1 / m) * np.sum(y * np.log(y_proba) \\\n",
    "                        + (1 - y) * np.log(1 - y_proba))\n",
    "\n",
    "            # calculate gradients via derivatives \n",
    "            #  with respect to loss function (refer above)\n",
    "            dW = (1 / m) * (X.T @ (y_proba - y))\n",
    "            db = (1 / m) * np.sum(y_proba - y)\n",
    "\n",
    "            # use gradient descent to update parameters\n",
    "            # parameter = parameter - (learning_rate * derivative_of_parameter)\n",
    "            self.params['coef'] -= (learning_rate * dW)\n",
    "            self.params['intercept'] -= (learning_rate * db)\n",
    "            \n",
    "            if verbose and (i == 1 or i % 100 == 0):\n",
    "                print(f\"\\nIteration {i}/{iterations}\")\n",
    "                print(\"--\" * 12)\n",
    "                print(f\"Loss: {loss}\")\n",
    "                print(f\"Coefficient:\\n{self.params['coef']}\")\n",
    "                print(f\"Intercept:\\n{self.params['intercept']}\")\n",
    "\n",
    "    def predict(self, X, threshold=0.5):\n",
    "        y_proba = self.predict_proba(X)\n",
    "        y_pred = np.where(y_proba > threshold, 1, 0)\n",
    "        return y_pred\n",
    "    \n",
    "    def predict_score(self, X, y):\n",
    "        from sklearn.metrics import accuracy_score\n",
    "        y_pred = self.predict(X)\n",
    "        return accuracy_score(y, y_pred)"
   ]
  },
  {
   "cell_type": "code",
   "execution_count": 28,
   "id": "20025b51-b2aa-41e1-928f-f2c5e2c5c0c3",
   "metadata": {},
   "outputs": [],
   "source": [
    "my_log_reg = MyLogisticRegBinary()\n",
    "my_log_reg.fit(X_train, y_train, learning_rate=0.05, iterations=1000, verbose=0)\n",
    "y_pred = my_log_reg.predict(X_test)"
   ]
  },
  {
   "cell_type": "code",
   "execution_count": 29,
   "id": "f438876d-0d07-4206-b472-e09f1d669b47",
   "metadata": {},
   "outputs": [
    {
     "name": "stdout",
     "output_type": "stream",
     "text": [
      "My implementation:\n",
      "0.8688524590163934\n",
      "[[25  4]\n",
      " [ 4 28]]\n"
     ]
    }
   ],
   "source": [
    "from sklearn.metrics import accuracy_score, confusion_matrix\n",
    "print(\"My implementation:\")\n",
    "print(accuracy_score(y_test, y_pred))\n",
    "print(confusion_matrix(y_test, y_pred))"
   ]
  },
  {
   "cell_type": "code",
   "execution_count": 30,
   "id": "6619c95d-28c8-473c-b750-e68388a2694c",
   "metadata": {},
   "outputs": [
    {
     "name": "stdout",
     "output_type": "stream",
     "text": [
      "Scikit-learn implementation:\n",
      "0.8524590163934426\n",
      "[[25  4]\n",
      " [ 5 27]]\n"
     ]
    }
   ],
   "source": [
    "# penalty='none' for no regularization\n",
    "# solver='sag' for closer result with normal gradient descent\n",
    "log_reg = LogisticRegression(penalty='none', solver='sag', max_iter=1000, random_state=42)\n",
    "log_reg.fit(X_train, y_train)\n",
    "sk_y_pred = log_reg.predict(X_test)\n",
    "print(\"Scikit-learn implementation:\")\n",
    "print(accuracy_score(y_test, sk_y_pred))\n",
    "print(confusion_matrix(y_test, sk_y_pred))"
   ]
  },
  {
   "cell_type": "code",
   "execution_count": 31,
   "id": "87b2ca38-406a-4067-b2ec-fe01ac521568",
   "metadata": {
    "tags": []
   },
   "outputs": [
    {
     "name": "stdout",
     "output_type": "stream",
     "text": [
      "Cross-validation score:\n",
      "0.8180272108843537\n",
      "0.8179421768707483\n"
     ]
    }
   ],
   "source": [
    "print(\"Cross-validation score:\")\n",
    "print(np.mean(cross_val_score(my_log_reg, X_train, y_train, cv=5)))\n",
    "print(np.mean(cross_val_score(log_reg, X_train, y_train, cv=5)))"
   ]
  },
  {
   "cell_type": "markdown",
   "id": "0a615514-2a27-49fa-b1d3-d6ead26ba2dd",
   "metadata": {},
   "source": [
    "## Multi-class classification"
   ]
  },
  {
   "cell_type": "markdown",
   "id": "e8ac2932-d0bd-4e8b-9ca6-5a8d7913db19",
   "metadata": {},
   "source": [
    "- Softmax in logistic regression: https://www.kdnuggets.com/2016/07/softmax-regression-related-logistic-regression.html"
   ]
  },
  {
   "cell_type": "code",
   "execution_count": 32,
   "id": "020b1307-4d7d-4ef2-a8d5-e621e40d4736",
   "metadata": {},
   "outputs": [],
   "source": [
    "from sklearn.base import BaseEstimator, ClassifierMixin\n",
    "from scipy.special import softmax\n",
    "from sklearn.preprocessing import OneHotEncoder\n",
    "\n",
    "class MyLogisticReg(BaseEstimator, ClassifierMixin):\n",
    "    def __init__(self):\n",
    "        self.params = {}\n",
    "        self.n_features = None\n",
    "        self.n_class = None\n",
    "        self.encoder = OneHotEncoder(sparse=False)\n",
    "        self.verbose = 0\n",
    "\n",
    "    def init_params(self, X, y):\n",
    "        \"\"\"Randomly initializing parameters\"\"\"\n",
    "        self.n_features = X.shape[1]  # number of features\n",
    "        # the matrix for slope coefficients\n",
    "        self.params['coef'] = np.random.randn(self.n_features, self.n_class)\n",
    "        # the y-intercept\n",
    "        self.params['intercept'] = np.random.randn(1, self.n_class)\n",
    "        if self.verbose:\n",
    "            print(\"[INFO] Initialized parameters.\")\n",
    "            print(f\"Shape of coefficient matrix: {self.params['coef'].shape}\")\n",
    "            print(f\"Shape of intercept matrix: {self.params['intercept'].shape}\")\n",
    "\n",
    "    def get_logits(self, X, y=None):\n",
    "        # logits = log(odds) = X@W + b\n",
    "        if 'coef' not in self.params and y is None:\n",
    "            # initialize the parameters if haven't\n",
    "            # self.init_params(X)\n",
    "            raise Exception(\"This LogisticRegression instance is not fitted yet.\" +\n",
    "                             \"Call 'fit' with appropriate arguments before using this estimator.\")\n",
    "        elif 'coef' not in self.params and y is not None:\n",
    "            print(\"[INFO] The model is not fitted yet. Using random parameters.\")\n",
    "            self.init_params(X, y)\n",
    "        return X @ self.params['coef'] + self.params['intercept']\n",
    "    \n",
    "    def predict_proba(self, X, y=None):\n",
    "        \"\"\"\n",
    "        If binary classification, use sigmoid function.\n",
    "        If multi-class classification, use softmax function.\n",
    "        \"\"\"\n",
    "        if y is not None:\n",
    "            # predict using randomly initialized parameters\n",
    "            logits = self.get_logits(X, y)\n",
    "        else:\n",
    "            logits = self.get_logits(X)\n",
    "            \n",
    "        if self.n_class == 1:\n",
    "            # binary classification uses sigmoid function\n",
    "            return 1 / (1 + np.exp(-logits))\n",
    "        \n",
    "        # https://machinelearningmastery.com/softmax-activation-function-with-python/\n",
    "        # https://stackoverflow.com/questions/43290138/softmax-function-of-a-numpy-array-by-row\n",
    "        # or just scipy.special.softmax\n",
    "        # minus by the max values in every row to prevent exponentials from reaching infinity\n",
    "        mx = np.max(logits, axis=-1, keepdims=True)\n",
    "        numerator = np.exp(logits - mx)\n",
    "        denominator = np.sum(numerator, axis=-1, keepdims=True)\n",
    "        return numerator / denominator\n",
    "\n",
    "    def fit(self, X, y, learning_rate=0.05, iterations=1000, verbose=0):\n",
    "        self.verbose = verbose\n",
    "        \n",
    "        if isinstance(X, pd.DataFrame):\n",
    "            # convert Dataframe to numpy for faster computations \n",
    "            X = X.values\n",
    "        if isinstance(y, pd.DataFrame):\n",
    "            y = y.values\n",
    "        \n",
    "        # get the number of classes in the target labels\n",
    "        n_classes = len(np.unique(y.flatten()))\n",
    "        # set to 1 instead of 2 for binary classification, \n",
    "        #  because of how matrix multiplication works for binary classifcation\n",
    "        self.n_class = n_classes if n_classes > 2 else 1\n",
    "        if self.n_class > 2:\n",
    "            # one-hot encode the target labels for multi-class classification\n",
    "            y = self.encoder.fit_transform(y)\n",
    "        \n",
    "        # initialize parameters\n",
    "        self.init_params(X, y)\n",
    "        m = X.shape[0]  # number of samples\n",
    "        \n",
    "        if self.verbose:\n",
    "            print(\"[INFO] Training ...\")\n",
    "        for i in range(1, iterations + 1):\n",
    "            # using method for binary classification\n",
    "            if self.n_class == 1:\n",
    "                # make predictions by computing probability\n",
    "                y_proba = self.predict_proba(X)\n",
    "                # calculate the binary cross-entropy loss\n",
    "                loss = - (1 / m) * np.sum(y * np.log(y_proba) \\\n",
    "                            + (1 - y) * np.log(1 - y_proba))\n",
    "                \n",
    "                # calculate gradients via derivatives\n",
    "                #  with respect to loss function (refer above)\n",
    "                dW = (1 / m) * (X.T @ (y_proba - y))\n",
    "                db = (1 / m) * np.sum(y_proba - y)\n",
    "                \n",
    "            # using method for multi-class classification\n",
    "            else:\n",
    "                # make predictions by computing probability\n",
    "                y_proba = self.predict_proba(X, y)\n",
    "                # calculate the categorical cross-entropy loss.\n",
    "                # Here the `y` stands for \"target\" (the true class labels),\n",
    "                #  and the `y_proba` stands for output \n",
    "                #  (the computed probability via softmax;\n",
    "                #  not the predicted class label).\n",
    "                loss = - (1 / m) * np.sum(y * np.log(y_proba))\n",
    "\n",
    "                # calculate gradients via derivatives \n",
    "                #  with respect to loss function (refer above)\n",
    "                dW = (1 / m) * (X.T @ (y_proba - y))\n",
    "                db = (1 / m) * np.sum((y_proba - y), axis=0, keepdims=True)\n",
    "                # print(dW.shape, db.shape)\n",
    "                # break\n",
    "\n",
    "            # use gradient descent to update parameters\n",
    "            # parameter = parameter - (learning_rate * derivative_of_parameter)\n",
    "            self.params['coef'] -= (learning_rate * dW)\n",
    "            self.params['intercept'] -= (learning_rate * db)\n",
    "            \n",
    "            if self.verbose and (i == 1 or i % 100 == 0):\n",
    "                print(f\"\\nIteration {i}/{iterations}\")\n",
    "                print(\"--\" * 12)\n",
    "                print(f\"Loss: {loss}\")\n",
    "                print(f\"Coefficient:\\n{self.params['coef']}\")\n",
    "                print(f\"Intercept:\\n{self.params['intercept']}\")\n",
    "\n",
    "    def predict(self, X, threshold=0.5):\n",
    "        y_proba = self.predict_proba(X)\n",
    "        if self.n_class == 1:\n",
    "            y_pred = np.where(y_proba > threshold, 1, 0)\n",
    "        else:\n",
    "            # get the index of the max probability as the predicted class\n",
    "            y_pred = np.argmax(y_proba, axis=1)\n",
    "        return y_pred\n",
    "    \n",
    "    def predict_score(self, X, y):\n",
    "        from sklearn.metrics import accuracy_score\n",
    "        y_pred = self.predict(X)\n",
    "        # if self.n_class > 1:\n",
    "        #     # one-hot encode it first before\n",
    "        #     y = self.encoder.transform(y)\n",
    "        #     y = np.argmax(y, axis=1)\n",
    "        return accuracy_score(y.reshape(-1), y_pred.reshape(-1))"
   ]
  },
  {
   "cell_type": "code",
   "execution_count": 33,
   "id": "dca801bf-02c7-403a-882e-bf02e0c9fb44",
   "metadata": {},
   "outputs": [
    {
     "name": "stdout",
     "output_type": "stream",
     "text": [
      "[[1002 1080 1100]\n",
      " [   5    7    8]\n",
      " [   2    4    6]\n",
      " [   3    4    5]]\n",
      "mx = array([[1100],\n",
      "       [   8],\n",
      "       [   6],\n",
      "       [   5]])\n",
      "x - mx = array([[-98, -20,   0],\n",
      "       [ -3,  -1,   0],\n",
      "       [ -4,  -2,   0],\n",
      "       [ -2,  -1,   0]])\n",
      "denominator = array([[1.        ],\n",
      "       [1.41766651],\n",
      "       [1.15365092],\n",
      "       [1.50321472]])\n",
      "result = array([[2.74878500e-43, 2.06115362e-09, 9.99999998e-01],\n",
      "       [3.51190270e-02, 2.59496460e-01, 7.05384513e-01],\n",
      "       [1.58762400e-02, 1.17310428e-01, 8.66813332e-01],\n",
      "       [9.00305732e-02, 2.44728471e-01, 6.65240956e-01]])\n",
      "Sum of probabilities = [[1.]\n",
      " [1.]\n",
      " [1.]\n",
      " [1.]]\n"
     ]
    }
   ],
   "source": [
    "# from scipy.special import softmax\n",
    "def softmax(x):\n",
    "    # https://stackoverflow.com/questions/43290138/softmax-function-of-a-numpy-array-by-row\n",
    "    # minus by the max values in every row to prevent exponentials from reaching infinity\n",
    "    mx = np.max(x, axis=-1, keepdims=True)\n",
    "    print(f\"{mx = }\")\n",
    "    print(f\"{x - mx = }\")\n",
    "    numerator = np.exp(x - mx)\n",
    "    denominator = np.sum(numerator, axis=-1, keepdims=True)\n",
    "    print(f\"{denominator = }\")\n",
    "    return numerator / denominator\n",
    " \n",
    "# define data\n",
    "data = np.array([[1002, 1080, 1100], [5, 7, 8], [2, 4, 6], [3, 4, 5]])\n",
    "print(data)\n",
    "# convert list of numbers to a list of probabilities\n",
    "result = softmax(data)\n",
    "# report the probabilities\n",
    "print(f\"{result = }\")\n",
    "# report the sum of the probabilities\n",
    "print(\"Sum of probabilities =\", np.sum(result, axis=1, keepdims=True))"
   ]
  },
  {
   "cell_type": "code",
   "execution_count": 34,
   "id": "0d6bea5f-d44a-4cff-bc90-9b473a51ee24",
   "metadata": {},
   "outputs": [
    {
     "name": "stdout",
     "output_type": "stream",
     "text": [
      "Result in accuracy:\n",
      "My implementation: 0.8524590163934426\n",
      "Sklearn implementation: 0.8524590163934426\n"
     ]
    }
   ],
   "source": [
    "# Binary classification\n",
    "\n",
    "my_log_reg = MyLogisticReg()\n",
    "# set verbose=1 to see the training progress\n",
    "my_log_reg.fit(X_train, y_train, learning_rate=0.05, iterations=1500, verbose=0)\n",
    "\n",
    "log_reg = LogisticRegression(penalty='none', solver='sag', random_state=42)\n",
    "log_reg.fit(X_train, y_train)\n",
    "print(\"Result in accuracy:\")\n",
    "print(f\"My implementation: {my_log_reg.predict_score(X_test, y_test)}\")\n",
    "print(f\"Sklearn implementation: {log_reg.score(X_test, y_test)}\")"
   ]
  },
  {
   "cell_type": "code",
   "execution_count": 35,
   "id": "9163aaa5-e8d3-49d1-a876-59c659d28fa9",
   "metadata": {
    "tags": []
   },
   "outputs": [
    {
     "data": {
      "text/plain": [
       "0.8056122448979591"
      ]
     },
     "execution_count": 35,
     "metadata": {},
     "output_type": "execute_result"
    }
   ],
   "source": [
    "np.mean(cross_val_score(my_log_reg, X_train, y_train, cv=5))"
   ]
  },
  {
   "cell_type": "code",
   "execution_count": 36,
   "id": "05ccccea-2c14-4f56-8c00-a992a616425c",
   "metadata": {},
   "outputs": [
    {
     "data": {
      "text/plain": [
       "(242, 13)"
      ]
     },
     "execution_count": 36,
     "metadata": {},
     "output_type": "execute_result"
    }
   ],
   "source": [
    "X_train.shape"
   ]
  },
  {
   "cell_type": "code",
   "execution_count": 37,
   "id": "f840143d-ae3f-4c80-b109-082252232346",
   "metadata": {},
   "outputs": [
    {
     "data": {
      "text/plain": [
       "(242, 1)"
      ]
     },
     "execution_count": 37,
     "metadata": {},
     "output_type": "execute_result"
    }
   ],
   "source": [
    "my_log_reg.get_logits(X_train).shape"
   ]
  },
  {
   "cell_type": "code",
   "execution_count": 38,
   "id": "261715cc-4c19-4379-b0dc-18e5b4bf34e9",
   "metadata": {},
   "outputs": [
    {
     "name": "stdout",
     "output_type": "stream",
     "text": [
      "X2.shape = (150, 4)\n",
      "y2.shape = (150, 1)\n"
     ]
    }
   ],
   "source": [
    "# MULTI-CLASS CLASSIFICATION\n",
    "\n",
    "X2, y2 = load_iris(return_X_y=True)\n",
    "y2 = y2.reshape(-1, 1)\n",
    "print(f\"{X2.shape = }\\n{y2.shape = }\")\n",
    "\n",
    "# X_train2, X_test2, y_train2, y_test2 = train_test_split(X2, y2, test_size=0.3, random_state=42)\n",
    "# print(f\"{y_train2.shape = }\\n{y_test2.shape = }\")\n",
    "\n",
    "# no need to one-hot encode here, \n",
    "#  the encoder has been incorporated into the class itself.\n",
    "# encoder = OneHotEncoder(sparse=False)\n",
    "# y_encoded = encoder.fit_transform(y)\n",
    "# print(f\"{y_encoded.shape = }\")"
   ]
  },
  {
   "cell_type": "code",
   "execution_count": 39,
   "id": "4f46640f-ba33-47ff-9ef6-f72edd008b8e",
   "metadata": {},
   "outputs": [
    {
     "name": "stdout",
     "output_type": "stream",
     "text": [
      "Result in accuracy:\n",
      "My implementation\t: 0.98\n",
      "Sklearn implementation\t: 0.98\n"
     ]
    }
   ],
   "source": [
    "my_log_reg = MyLogisticReg()\n",
    "# set verbose=1 to see the training progress\n",
    "my_log_reg.fit(X2, y2, learning_rate=0.05, iterations=1500, verbose=0)\n",
    "\n",
    "log_reg = LogisticRegression(penalty='none', solver='sag', multi_class='multinomial', random_state=42)\n",
    "log_reg.fit(X2, y2)\n",
    "print(\"Result in accuracy:\")\n",
    "print(f\"My implementation\\t: {my_log_reg.predict_score(X2, y2)}\")\n",
    "print(f\"Sklearn implementation\\t: {log_reg.score(X2, y2)}\")"
   ]
  },
  {
   "cell_type": "code",
   "execution_count": 40,
   "id": "d4996ae0-31ac-4b4e-b690-1849a1df7da7",
   "metadata": {},
   "outputs": [
    {
     "data": {
      "text/plain": [
       "(303, 13)"
      ]
     },
     "execution_count": 40,
     "metadata": {},
     "output_type": "execute_result"
    }
   ],
   "source": [
    "X.shape"
   ]
  },
  {
   "cell_type": "code",
   "execution_count": 41,
   "id": "2b0ea22a-381e-4e4b-a68e-bf3159287f1a",
   "metadata": {},
   "outputs": [
    {
     "ename": "ValueError",
     "evalue": "Dot product shape mismatch, (303, 13) vs (4, 3)",
     "output_type": "error",
     "traceback": [
      "\u001b[1;31m---------------------------------------------------------------------------\u001b[0m",
      "\u001b[1;31mValueError\u001b[0m                                Traceback (most recent call last)",
      "\u001b[1;32m<ipython-input-41-b64d85248456>\u001b[0m in \u001b[0;36m<module>\u001b[1;34m\u001b[0m\n\u001b[1;32m----> 1\u001b[1;33m \u001b[0mmy_log_reg\u001b[0m\u001b[1;33m.\u001b[0m\u001b[0mget_logits\u001b[0m\u001b[1;33m(\u001b[0m\u001b[0mX\u001b[0m\u001b[1;33m)\u001b[0m\u001b[1;33m.\u001b[0m\u001b[0mshape\u001b[0m\u001b[1;33m\u001b[0m\u001b[1;33m\u001b[0m\u001b[0m\n\u001b[0m",
      "\u001b[1;32m<ipython-input-32-ad132d67dcb1>\u001b[0m in \u001b[0;36mget_logits\u001b[1;34m(self, X, y)\u001b[0m\n\u001b[0;32m     33\u001b[0m             \u001b[0mprint\u001b[0m\u001b[1;33m(\u001b[0m\u001b[1;34m\"[INFO] The model is not fitted yet. Using random parameters.\"\u001b[0m\u001b[1;33m)\u001b[0m\u001b[1;33m\u001b[0m\u001b[1;33m\u001b[0m\u001b[0m\n\u001b[0;32m     34\u001b[0m             \u001b[0mself\u001b[0m\u001b[1;33m.\u001b[0m\u001b[0minit_params\u001b[0m\u001b[1;33m(\u001b[0m\u001b[0mX\u001b[0m\u001b[1;33m,\u001b[0m \u001b[0my\u001b[0m\u001b[1;33m)\u001b[0m\u001b[1;33m\u001b[0m\u001b[1;33m\u001b[0m\u001b[0m\n\u001b[1;32m---> 35\u001b[1;33m         \u001b[1;32mreturn\u001b[0m \u001b[0mX\u001b[0m \u001b[1;33m@\u001b[0m \u001b[0mself\u001b[0m\u001b[1;33m.\u001b[0m\u001b[0mparams\u001b[0m\u001b[1;33m[\u001b[0m\u001b[1;34m'coef'\u001b[0m\u001b[1;33m]\u001b[0m \u001b[1;33m+\u001b[0m \u001b[0mself\u001b[0m\u001b[1;33m.\u001b[0m\u001b[0mparams\u001b[0m\u001b[1;33m[\u001b[0m\u001b[1;34m'intercept'\u001b[0m\u001b[1;33m]\u001b[0m\u001b[1;33m\u001b[0m\u001b[1;33m\u001b[0m\u001b[0m\n\u001b[0m\u001b[0;32m     36\u001b[0m \u001b[1;33m\u001b[0m\u001b[0m\n\u001b[0;32m     37\u001b[0m     \u001b[1;32mdef\u001b[0m \u001b[0mpredict_proba\u001b[0m\u001b[1;33m(\u001b[0m\u001b[0mself\u001b[0m\u001b[1;33m,\u001b[0m \u001b[0mX\u001b[0m\u001b[1;33m,\u001b[0m \u001b[0my\u001b[0m\u001b[1;33m=\u001b[0m\u001b[1;32mNone\u001b[0m\u001b[1;33m)\u001b[0m\u001b[1;33m:\u001b[0m\u001b[1;33m\u001b[0m\u001b[1;33m\u001b[0m\u001b[0m\n",
      "\u001b[1;32m~\\AppData\\Roaming\\Python\\Python38\\site-packages\\pandas\\core\\frame.py\u001b[0m in \u001b[0;36m__matmul__\u001b[1;34m(self, other)\u001b[0m\n\u001b[0;32m   1276\u001b[0m         \u001b[0mMatrix\u001b[0m \u001b[0mmultiplication\u001b[0m \u001b[0musing\u001b[0m \u001b[0mbinary\u001b[0m\u001b[0;31m \u001b[0m\u001b[0;31m`\u001b[0m\u001b[1;33m@\u001b[0m\u001b[0;31m`\u001b[0m \u001b[0moperator\u001b[0m \u001b[1;32min\u001b[0m \u001b[0mPython\u001b[0m\u001b[1;33m>=\u001b[0m\u001b[1;36m3.5\u001b[0m\u001b[1;33m.\u001b[0m\u001b[1;33m\u001b[0m\u001b[1;33m\u001b[0m\u001b[0m\n\u001b[0;32m   1277\u001b[0m         \"\"\"\n\u001b[1;32m-> 1278\u001b[1;33m         \u001b[1;32mreturn\u001b[0m \u001b[0mself\u001b[0m\u001b[1;33m.\u001b[0m\u001b[0mdot\u001b[0m\u001b[1;33m(\u001b[0m\u001b[0mother\u001b[0m\u001b[1;33m)\u001b[0m\u001b[1;33m\u001b[0m\u001b[1;33m\u001b[0m\u001b[0m\n\u001b[0m\u001b[0;32m   1279\u001b[0m \u001b[1;33m\u001b[0m\u001b[0m\n\u001b[0;32m   1280\u001b[0m     \u001b[1;32mdef\u001b[0m \u001b[0m__rmatmul__\u001b[0m\u001b[1;33m(\u001b[0m\u001b[0mself\u001b[0m\u001b[1;33m,\u001b[0m \u001b[0mother\u001b[0m\u001b[1;33m)\u001b[0m\u001b[1;33m:\u001b[0m\u001b[1;33m\u001b[0m\u001b[1;33m\u001b[0m\u001b[0m\n",
      "\u001b[1;32m~\\AppData\\Roaming\\Python\\Python38\\site-packages\\pandas\\core\\frame.py\u001b[0m in \u001b[0;36mdot\u001b[1;34m(self, other)\u001b[0m\n\u001b[0;32m   1253\u001b[0m             \u001b[0mrvals\u001b[0m \u001b[1;33m=\u001b[0m \u001b[0mnp\u001b[0m\u001b[1;33m.\u001b[0m\u001b[0masarray\u001b[0m\u001b[1;33m(\u001b[0m\u001b[0mother\u001b[0m\u001b[1;33m)\u001b[0m\u001b[1;33m\u001b[0m\u001b[1;33m\u001b[0m\u001b[0m\n\u001b[0;32m   1254\u001b[0m             \u001b[1;32mif\u001b[0m \u001b[0mlvals\u001b[0m\u001b[1;33m.\u001b[0m\u001b[0mshape\u001b[0m\u001b[1;33m[\u001b[0m\u001b[1;36m1\u001b[0m\u001b[1;33m]\u001b[0m \u001b[1;33m!=\u001b[0m \u001b[0mrvals\u001b[0m\u001b[1;33m.\u001b[0m\u001b[0mshape\u001b[0m\u001b[1;33m[\u001b[0m\u001b[1;36m0\u001b[0m\u001b[1;33m]\u001b[0m\u001b[1;33m:\u001b[0m\u001b[1;33m\u001b[0m\u001b[1;33m\u001b[0m\u001b[0m\n\u001b[1;32m-> 1255\u001b[1;33m                 raise ValueError(\n\u001b[0m\u001b[0;32m   1256\u001b[0m                     \u001b[1;34mf\"Dot product shape mismatch, {lvals.shape} vs {rvals.shape}\"\u001b[0m\u001b[1;33m\u001b[0m\u001b[1;33m\u001b[0m\u001b[0m\n\u001b[0;32m   1257\u001b[0m                 )\n",
      "\u001b[1;31mValueError\u001b[0m: Dot product shape mismatch, (303, 13) vs (4, 3)"
     ]
    }
   ],
   "source": [
    "my_log_reg.get_logits(X).shape"
   ]
  },
  {
   "cell_type": "markdown",
   "id": "6f54ccee-92d5-4689-b63f-5654ca574586",
   "metadata": {},
   "source": [
    "# Visualizations"
   ]
  },
  {
   "cell_type": "code",
   "execution_count": null,
   "id": "0edf851a-25cb-42e4-8ae2-146961a6c4a7",
   "metadata": {},
   "outputs": [],
   "source": [
    "# plot confusion matrix for binary classification\n",
    "from sklearn.metrics import plot_confusion_matrix\n",
    "my_log_reg = MyLogisticReg()\n",
    "# set verbose=1 to see the training progress\n",
    "my_log_reg.fit(X_train, y_train, learning_rate=0.05, iterations=1500, verbose=0)\n",
    "print('Accuracy =', my_log_reg.score(X_test, y_test))\n",
    "plot_confusion_matrix(my_log_reg, X_test, y_test, cmap='Blues', display_labels=['Healthy', 'Heart Disease'])\n",
    "plt.grid(None);"
   ]
  },
  {
   "cell_type": "code",
   "execution_count": null,
   "id": "722053bc-5319-463d-ac81-d04a1a742f33",
   "metadata": {},
   "outputs": [],
   "source": [
    "y_proba = my_log_reg.predict_proba(X_train)\n",
    "sorted_proba_idxs = np.argsort(y_proba.reshape(-1))\n",
    "\n",
    "y_proba = y_proba.reshape(-1)[sorted_proba_idxs]\n",
    "y_train_sorted = y_train.reshape(-1)[sorted_proba_idxs]\n",
    "\n",
    "fig, ax = plt.subplots(figsize=(10, 12))\n",
    "scatter = ax.scatter(np.arange(len(y_proba)), y_proba, c=y_train_sorted,\n",
    "                     marker='x', cmap='tab20b', linewidth=2)\n",
    "\n",
    "# https://matplotlib.org/stable/gallery/lines_bars_and_markers/scatter_with_legend.html\n",
    "# produce a legend with the unique colors from the scatter\n",
    "handles, labels = scatter.legend_elements()\n",
    "labels = ['Healthy', 'Unhealthy']\n",
    "legend = ax.legend(handles, labels, loc=\"upper left\", title=\"Heart Disease\")\n",
    "plt.xlabel('Index')\n",
    "plt.ylabel('Probability')\n",
    "plt.title('Predicted Probabilities VS True labels');"
   ]
  },
  {
   "cell_type": "code",
   "execution_count": null,
   "id": "8480cc0f-9d03-4db1-a7dd-1aaf76f6f728",
   "metadata": {},
   "outputs": [],
   "source": []
  }
 ],
 "metadata": {
  "interpreter": {
   "hash": "6d46af94c2bbce495f1e668725902fa517c90b1782bcfe2fce0dd9868df553d3"
  },
  "kernelspec": {
   "display_name": "Python 3",
   "language": "python",
   "name": "python3"
  },
  "language_info": {
   "codemirror_mode": {
    "name": "ipython",
    "version": 3
   },
   "file_extension": ".py",
   "mimetype": "text/x-python",
   "name": "python",
   "nbconvert_exporter": "python",
   "pygments_lexer": "ipython3",
   "version": "3.8.10"
  }
 },
 "nbformat": 4,
 "nbformat_minor": 5
}
