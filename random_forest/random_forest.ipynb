{
 "cells": [
  {
   "cell_type": "code",
   "execution_count": 2,
   "id": "88d68b85",
   "metadata": {},
   "outputs": [],
   "source": [
    "import numpy as np\r\n",
    "import sys\r\n",
    "from pathlib import Path\r\n",
    "from scipy import stats\r\n",
    "import math\r\n",
    "\r\n",
    "file = Path.cwd()\r\n",
    "package_root_directory = file.parents[0]\r\n",
    "sys.path.append(str(package_root_directory))\r\n",
    "\r\n",
    "from decision_tree.decision_tree_classifier import MyDecisionTreeClassifier"
   ]
  },
  {
   "cell_type": "code",
   "execution_count": 4,
   "id": "caf5638c",
   "metadata": {},
   "outputs": [
    {
     "data": {
      "text/plain": [
       "2"
      ]
     },
     "execution_count": 4,
     "metadata": {},
     "output_type": "execute_result"
    }
   ],
   "source": [
    "x = np.array([[0.], [1.]])\r\n",
    "len(x)"
   ]
  },
  {
   "cell_type": "code",
   "execution_count": 2,
   "id": "562f2d5f",
   "metadata": {},
   "outputs": [],
   "source": [
    "def bootstrap_sample(X, y):\r\n",
    "    n_samples = X.shape[0]\r\n",
    "    idxs = np.random.choice(n_samples, n_samples, replace=True)\r\n",
    "    return X[idxs], y[idxs]"
   ]
  },
  {
   "cell_type": "code",
   "execution_count": 3,
   "id": "57bc6939",
   "metadata": {},
   "outputs": [],
   "source": [
    "class MyRandomForestClassifier:\r\n",
    "    def __init__(self, n_estimators=100, min_samples_split=2,\r\n",
    "                max_depth=100, max_features='auto'):\r\n",
    "        self.n_estimators = n_estimators\r\n",
    "        self.min_samples_split = min_samples_split\r\n",
    "        self.max_depth = max_depth\r\n",
    "        self.max_features = max_features\r\n",
    "        self.estimators_ = []\r\n",
    "\r\n",
    "    def fit(self, X, y):\r\n",
    "        n_samples, n_features = X.shape\r\n",
    "\r\n",
    "        if not self.max_features:\r\n",
    "            self.max_features = n_features\r\n",
    "        elif self.max_features == 'auto':\r\n",
    "            self.max_features = math.ceil(np.sqrt(n_features))\r\n",
    "\r\n",
    "        self.estimators_ = []\r\n",
    "        for _ in range(self.n_estimators):\r\n",
    "            tree = MyDecisionTreeClassifier(\r\n",
    "                min_samples_split=self.min_samples_split,\r\n",
    "                max_depth=self.max_depth,\r\n",
    "                max_features=self.max_features,\r\n",
    "            )\r\n",
    "            X_sample, y_sample = bootstrap_sample(X, y)\r\n",
    "            tree.fit(X_sample, y_sample)\r\n",
    "            self.estimators_.append(tree)\r\n",
    "\r\n",
    "    def predict(self, X):\r\n",
    "        tree_preds = np.array([tree.predict(X) for tree in self.estimators_])\r\n",
    "        y_pred_majority_votes, n_votes = stats.mode(tree_preds, axis=0)\r\n",
    "        return y_pred_majority_votes.flatten()\r\n"
   ]
  },
  {
   "cell_type": "code",
   "execution_count": 4,
   "id": "b8f489e3",
   "metadata": {},
   "outputs": [],
   "source": [
    "from sklearn.datasets import load_breast_cancer\r\n",
    "from sklearn.model_selection import train_test_split\r\n",
    "from sklearn.metrics import accuracy_score\r\n",
    "from sklearn.ensemble import RandomForestClassifier\r\n",
    "\r\n",
    "data = load_breast_cancer()\r\n",
    "X = data.data\r\n",
    "y = data.target\r\n",
    "\r\n",
    "X_train, X_test, y_train, y_test = train_test_split(\r\n",
    "    X, y, test_size=0.2, random_state=42\r\n",
    ")"
   ]
  },
  {
   "cell_type": "code",
   "execution_count": 5,
   "id": "5f168489",
   "metadata": {},
   "outputs": [],
   "source": [
    "seed = 42\r\n",
    "max_depth = 3\r\n",
    "np.random.seed(seed)\r\n",
    "clf = MyRandomForestClassifier(n_estimators=3, max_depth=max_depth)\r\n",
    "clf.fit(X_train, y_train)"
   ]
  },
  {
   "cell_type": "code",
   "execution_count": 6,
   "id": "e7c603be",
   "metadata": {},
   "outputs": [
    {
     "name": "stdout",
     "output_type": "stream",
     "text": [
      "My implementation: Accuracy = 0.9824561403508771\n"
     ]
    }
   ],
   "source": [
    "y_pred = clf.predict(X_test)\r\n",
    "acc = accuracy_score(y_test, y_pred)\r\n",
    "print(\"My implementation: Accuracy =\", acc)"
   ]
  },
  {
   "cell_type": "code",
   "execution_count": 7,
   "id": "09f1f8cf",
   "metadata": {},
   "outputs": [
    {
     "name": "stdout",
     "output_type": "stream",
     "text": [
      "Sklearn implementation: Accuracy = 0.956140350877193\n"
     ]
    }
   ],
   "source": [
    "sk_clf = RandomForestClassifier(n_estimators=3, max_depth=max_depth, random_state=seed)\r\n",
    "sk_clf.fit(X_train, y_train)\r\n",
    "sk_y_pred = sk_clf.predict(X_test)\r\n",
    "acc = accuracy_score(y_test, sk_y_pred)\r\n",
    "print(\"Sklearn implementation: Accuracy =\", acc)"
   ]
  },
  {
   "cell_type": "code",
   "execution_count": null,
   "id": "389e94a2",
   "metadata": {},
   "outputs": [],
   "source": []
  }
 ],
 "metadata": {
  "interpreter": {
   "hash": "6d46af94c2bbce495f1e668725902fa517c90b1782bcfe2fce0dd9868df553d3"
  },
  "kernelspec": {
   "display_name": "Python 3",
   "language": "python",
   "name": "python3"
  },
  "language_info": {
   "codemirror_mode": {
    "name": "ipython",
    "version": 3
   },
   "file_extension": ".py",
   "mimetype": "text/x-python",
   "name": "python",
   "nbconvert_exporter": "python",
   "pygments_lexer": "ipython3",
   "version": "3.7.6"
  }
 },
 "nbformat": 4,
 "nbformat_minor": 5
}
