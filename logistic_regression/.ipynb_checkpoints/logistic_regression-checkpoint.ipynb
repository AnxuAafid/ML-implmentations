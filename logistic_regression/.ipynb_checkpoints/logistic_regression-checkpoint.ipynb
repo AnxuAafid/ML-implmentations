{
 "cells": [
  {
   "cell_type": "code",
   "execution_count": 1,
   "id": "fe7b0adc-186c-4683-9cb5-28d1033dc054",
   "metadata": {},
   "outputs": [],
   "source": [
    "import time\n",
    "import numpy as np\n",
    "import pandas as pd\n",
    "import matplotlib.pyplot as plt\n",
    "import seaborn as sns\n",
    "%matplotlib inline\n",
    "\n",
    "from sklearn.datasets import load_breast_cancer\n",
    "from sklearn.linear_model import LogisticRegression\n",
    "from sklearn.model_selection import train_test_split, GridSearchCV, cross_val_score\n",
    "from sklearn.preprocessing import StandardScaler\n",
    "\n",
    "# import tensorflow as tf\n",
    "\n",
    "plt.style.use('fivethirtyeight')\n",
    "plt.rcParams['figure.figsize'] = (12, 8)\n",
    "\n",
    "import warnings\n",
    "warnings.filterwarnings('ignore')"
   ]
  },
  {
   "cell_type": "code",
   "execution_count": 2,
   "id": "cb4ebc18-ebc0-4475-8bd9-a8151a0690d8",
   "metadata": {},
   "outputs": [],
   "source": [
    "np.random.seed(42)"
   ]
  },
  {
   "cell_type": "code",
   "execution_count": 3,
   "id": "2fd32427-78c7-48fa-b10c-28b52e2db1e4",
   "metadata": {},
   "outputs": [
    {
     "data": {
      "text/plain": [
       "((569, 30), (569,))"
      ]
     },
     "execution_count": 3,
     "metadata": {},
     "output_type": "execute_result"
    }
   ],
   "source": [
    "data = load_breast_cancer(as_frame=True)\n",
    "X, y = data.data, data.target\n",
    "X.shape, y.shape"
   ]
  },
  {
   "cell_type": "code",
   "execution_count": 4,
   "id": "cea082d9-cff4-4cc9-93cf-f553ab1e5b3d",
   "metadata": {},
   "outputs": [
    {
     "data": {
      "text/html": [
       "<div>\n",
       "<style scoped>\n",
       "    .dataframe tbody tr th:only-of-type {\n",
       "        vertical-align: middle;\n",
       "    }\n",
       "\n",
       "    .dataframe tbody tr th {\n",
       "        vertical-align: top;\n",
       "    }\n",
       "\n",
       "    .dataframe thead th {\n",
       "        text-align: right;\n",
       "    }\n",
       "</style>\n",
       "<table border=\"1\" class=\"dataframe\">\n",
       "  <thead>\n",
       "    <tr style=\"text-align: right;\">\n",
       "      <th></th>\n",
       "      <th>mean radius</th>\n",
       "      <th>mean texture</th>\n",
       "      <th>mean perimeter</th>\n",
       "      <th>mean area</th>\n",
       "      <th>mean smoothness</th>\n",
       "      <th>mean compactness</th>\n",
       "      <th>mean concavity</th>\n",
       "      <th>mean concave points</th>\n",
       "      <th>mean symmetry</th>\n",
       "      <th>mean fractal dimension</th>\n",
       "      <th>...</th>\n",
       "      <th>worst texture</th>\n",
       "      <th>worst perimeter</th>\n",
       "      <th>worst area</th>\n",
       "      <th>worst smoothness</th>\n",
       "      <th>worst compactness</th>\n",
       "      <th>worst concavity</th>\n",
       "      <th>worst concave points</th>\n",
       "      <th>worst symmetry</th>\n",
       "      <th>worst fractal dimension</th>\n",
       "      <th>target</th>\n",
       "    </tr>\n",
       "  </thead>\n",
       "  <tbody>\n",
       "    <tr>\n",
       "      <th>0</th>\n",
       "      <td>17.99</td>\n",
       "      <td>10.38</td>\n",
       "      <td>122.80</td>\n",
       "      <td>1001.0</td>\n",
       "      <td>0.11840</td>\n",
       "      <td>0.27760</td>\n",
       "      <td>0.3001</td>\n",
       "      <td>0.14710</td>\n",
       "      <td>0.2419</td>\n",
       "      <td>0.07871</td>\n",
       "      <td>...</td>\n",
       "      <td>17.33</td>\n",
       "      <td>184.60</td>\n",
       "      <td>2019.0</td>\n",
       "      <td>0.1622</td>\n",
       "      <td>0.6656</td>\n",
       "      <td>0.7119</td>\n",
       "      <td>0.2654</td>\n",
       "      <td>0.4601</td>\n",
       "      <td>0.11890</td>\n",
       "      <td>0</td>\n",
       "    </tr>\n",
       "    <tr>\n",
       "      <th>1</th>\n",
       "      <td>20.57</td>\n",
       "      <td>17.77</td>\n",
       "      <td>132.90</td>\n",
       "      <td>1326.0</td>\n",
       "      <td>0.08474</td>\n",
       "      <td>0.07864</td>\n",
       "      <td>0.0869</td>\n",
       "      <td>0.07017</td>\n",
       "      <td>0.1812</td>\n",
       "      <td>0.05667</td>\n",
       "      <td>...</td>\n",
       "      <td>23.41</td>\n",
       "      <td>158.80</td>\n",
       "      <td>1956.0</td>\n",
       "      <td>0.1238</td>\n",
       "      <td>0.1866</td>\n",
       "      <td>0.2416</td>\n",
       "      <td>0.1860</td>\n",
       "      <td>0.2750</td>\n",
       "      <td>0.08902</td>\n",
       "      <td>0</td>\n",
       "    </tr>\n",
       "    <tr>\n",
       "      <th>2</th>\n",
       "      <td>19.69</td>\n",
       "      <td>21.25</td>\n",
       "      <td>130.00</td>\n",
       "      <td>1203.0</td>\n",
       "      <td>0.10960</td>\n",
       "      <td>0.15990</td>\n",
       "      <td>0.1974</td>\n",
       "      <td>0.12790</td>\n",
       "      <td>0.2069</td>\n",
       "      <td>0.05999</td>\n",
       "      <td>...</td>\n",
       "      <td>25.53</td>\n",
       "      <td>152.50</td>\n",
       "      <td>1709.0</td>\n",
       "      <td>0.1444</td>\n",
       "      <td>0.4245</td>\n",
       "      <td>0.4504</td>\n",
       "      <td>0.2430</td>\n",
       "      <td>0.3613</td>\n",
       "      <td>0.08758</td>\n",
       "      <td>0</td>\n",
       "    </tr>\n",
       "    <tr>\n",
       "      <th>3</th>\n",
       "      <td>11.42</td>\n",
       "      <td>20.38</td>\n",
       "      <td>77.58</td>\n",
       "      <td>386.1</td>\n",
       "      <td>0.14250</td>\n",
       "      <td>0.28390</td>\n",
       "      <td>0.2414</td>\n",
       "      <td>0.10520</td>\n",
       "      <td>0.2597</td>\n",
       "      <td>0.09744</td>\n",
       "      <td>...</td>\n",
       "      <td>26.50</td>\n",
       "      <td>98.87</td>\n",
       "      <td>567.7</td>\n",
       "      <td>0.2098</td>\n",
       "      <td>0.8663</td>\n",
       "      <td>0.6869</td>\n",
       "      <td>0.2575</td>\n",
       "      <td>0.6638</td>\n",
       "      <td>0.17300</td>\n",
       "      <td>0</td>\n",
       "    </tr>\n",
       "    <tr>\n",
       "      <th>4</th>\n",
       "      <td>20.29</td>\n",
       "      <td>14.34</td>\n",
       "      <td>135.10</td>\n",
       "      <td>1297.0</td>\n",
       "      <td>0.10030</td>\n",
       "      <td>0.13280</td>\n",
       "      <td>0.1980</td>\n",
       "      <td>0.10430</td>\n",
       "      <td>0.1809</td>\n",
       "      <td>0.05883</td>\n",
       "      <td>...</td>\n",
       "      <td>16.67</td>\n",
       "      <td>152.20</td>\n",
       "      <td>1575.0</td>\n",
       "      <td>0.1374</td>\n",
       "      <td>0.2050</td>\n",
       "      <td>0.4000</td>\n",
       "      <td>0.1625</td>\n",
       "      <td>0.2364</td>\n",
       "      <td>0.07678</td>\n",
       "      <td>0</td>\n",
       "    </tr>\n",
       "  </tbody>\n",
       "</table>\n",
       "<p>5 rows × 31 columns</p>\n",
       "</div>"
      ],
      "text/plain": [
       "   mean radius  mean texture  mean perimeter  mean area  mean smoothness  \\\n",
       "0        17.99         10.38          122.80     1001.0          0.11840   \n",
       "1        20.57         17.77          132.90     1326.0          0.08474   \n",
       "2        19.69         21.25          130.00     1203.0          0.10960   \n",
       "3        11.42         20.38           77.58      386.1          0.14250   \n",
       "4        20.29         14.34          135.10     1297.0          0.10030   \n",
       "\n",
       "   mean compactness  mean concavity  mean concave points  mean symmetry  \\\n",
       "0           0.27760          0.3001              0.14710         0.2419   \n",
       "1           0.07864          0.0869              0.07017         0.1812   \n",
       "2           0.15990          0.1974              0.12790         0.2069   \n",
       "3           0.28390          0.2414              0.10520         0.2597   \n",
       "4           0.13280          0.1980              0.10430         0.1809   \n",
       "\n",
       "   mean fractal dimension  ...  worst texture  worst perimeter  worst area  \\\n",
       "0                 0.07871  ...          17.33           184.60      2019.0   \n",
       "1                 0.05667  ...          23.41           158.80      1956.0   \n",
       "2                 0.05999  ...          25.53           152.50      1709.0   \n",
       "3                 0.09744  ...          26.50            98.87       567.7   \n",
       "4                 0.05883  ...          16.67           152.20      1575.0   \n",
       "\n",
       "   worst smoothness  worst compactness  worst concavity  worst concave points  \\\n",
       "0            0.1622             0.6656           0.7119                0.2654   \n",
       "1            0.1238             0.1866           0.2416                0.1860   \n",
       "2            0.1444             0.4245           0.4504                0.2430   \n",
       "3            0.2098             0.8663           0.6869                0.2575   \n",
       "4            0.1374             0.2050           0.4000                0.1625   \n",
       "\n",
       "   worst symmetry  worst fractal dimension  target  \n",
       "0          0.4601                  0.11890       0  \n",
       "1          0.2750                  0.08902       0  \n",
       "2          0.3613                  0.08758       0  \n",
       "3          0.6638                  0.17300       0  \n",
       "4          0.2364                  0.07678       0  \n",
       "\n",
       "[5 rows x 31 columns]"
      ]
     },
     "execution_count": 4,
     "metadata": {},
     "output_type": "execute_result"
    }
   ],
   "source": [
    "df = data.frame.copy()\n",
    "df.head()"
   ]
  },
  {
   "cell_type": "code",
   "execution_count": 5,
   "id": "56d8ac69-d60a-4e71-818a-3e905cfb7185",
   "metadata": {},
   "outputs": [],
   "source": [
    "df['target'] = df.target.astype(int)"
   ]
  },
  {
   "cell_type": "code",
   "execution_count": 6,
   "id": "61bb982d-9be0-4d2c-9b61-e0eea866bfd4",
   "metadata": {},
   "outputs": [
    {
     "data": {
      "text/plain": [
       "1    357\n",
       "0    212\n",
       "Name: target, dtype: int64"
      ]
     },
     "execution_count": 6,
     "metadata": {},
     "output_type": "execute_result"
    }
   ],
   "source": [
    "df.target.value_counts()"
   ]
  },
  {
   "cell_type": "code",
   "execution_count": 7,
   "id": "d07c2829-fd99-46f4-8a78-004963499550",
   "metadata": {},
   "outputs": [
    {
     "data": {
      "text/plain": [
       "array([0, 1])"
      ]
     },
     "execution_count": 7,
     "metadata": {},
     "output_type": "execute_result"
    }
   ],
   "source": [
    "df.target.unique()"
   ]
  },
  {
   "cell_type": "code",
   "execution_count": 8,
   "id": "19c197fe-8429-4258-8455-bb89f3982d50",
   "metadata": {},
   "outputs": [
    {
     "data": {
      "text/plain": [
       "array(['malignant', 'benign'], dtype='<U9')"
      ]
     },
     "execution_count": 8,
     "metadata": {},
     "output_type": "execute_result"
    }
   ],
   "source": [
    "data.target_names"
   ]
  },
  {
   "cell_type": "code",
   "execution_count": 9,
   "id": "c4ed5e6f-b30f-47c0-9a86-916029087cf3",
   "metadata": {},
   "outputs": [
    {
     "data": {
      "text/plain": [
       "{0: 'malignant', 1: 'benign'}"
      ]
     },
     "execution_count": 9,
     "metadata": {},
     "output_type": "execute_result"
    }
   ],
   "source": [
    "iris2encoded = {k: v for k, v in zip(df.target.unique(), data.target_names)}\n",
    "iris2encoded"
   ]
  },
  {
   "cell_type": "code",
   "execution_count": 10,
   "id": "6e28eda9-eb96-4574-ba93-294f7a90cf42",
   "metadata": {},
   "outputs": [
    {
     "data": {
      "image/png": "[encoded data removed]",
      "text/plain": [
       "<Figure size 864x576 with 1 Axes>"
      ]
     },
     "metadata": {},
     "output_type": "display_data"
    }
   ],
   "source": [
    "col_idx = 0\n",
    "plt.scatter(df.iloc[:, col_idx], df.target, c=df.target, cmap='tab20b')\n",
    "plt.xlabel(df.columns[col_idx])\n",
    "plt.ylabel('Class');"
   ]
  },
  {
   "cell_type": "code",
   "execution_count": 184,
   "id": "50e24c48-431e-459b-97af-c8ec4b9f8d03",
   "metadata": {},
   "outputs": [
    {
     "data": {
      "text/plain": [
       "((455,), (114,))"
      ]
     },
     "execution_count": 184,
     "metadata": {},
     "output_type": "execute_result"
    }
   ],
   "source": [
    "X_train, X_test, y_train, y_test = train_test_split(X, y, test_size=0.2, random_state=42)\n",
    "y_train.shape, y_test.shape"
   ]
  },
  {
   "cell_type": "code",
   "execution_count": 185,
   "id": "b381eca2-c486-44fe-8253-804ffff333f3",
   "metadata": {},
   "outputs": [
    {
     "data": {
      "text/plain": [
       "((455, 1), (114, 1))"
      ]
     },
     "execution_count": 185,
     "metadata": {},
     "output_type": "execute_result"
    }
   ],
   "source": [
    "# VERY IMPORTANT STEP\n",
    "y_train = y_train.values.reshape(-1, 1)\n",
    "y_test = y_test.values.reshape(-1, 1)\n",
    "y_train.shape, y_test.shape"
   ]
  },
  {
   "cell_type": "code",
   "execution_count": 186,
   "id": "f2ab8d31-6166-4ed9-9128-5b77a6f71dca",
   "metadata": {},
   "outputs": [],
   "source": [
    "scaler = StandardScaler()\n",
    "X_train = scaler.fit_transform(X_train)\n",
    "X_test = scaler.transform(X_test)"
   ]
  },
  {
   "cell_type": "code",
   "execution_count": 14,
   "id": "051b04fa-5183-4050-9a35-f8a1905a99df",
   "metadata": {},
   "outputs": [
    {
     "data": {
      "text/plain": [
       "(569, 31)"
      ]
     },
     "execution_count": 14,
     "metadata": {},
     "output_type": "execute_result"
    }
   ],
   "source": [
    "full_data = df.values\n",
    "full_data.shape"
   ]
  },
  {
   "attachments": {
    "2877b882-a612-49b3-9a42-24450f9461f5.png": {
     "image/png": "[encoded data removed]"
    }
   },
   "cell_type": "markdown",
   "id": "ae7d2353-ca9e-4a11-a1fd-12f0f0271900",
   "metadata": {},
   "source": [
    "![image.png](attachment:2877b882-a612-49b3-9a42-24450f9461f5.png)\n",
    "\n",
    "https://www.coursera.org/learn/machine-learning/supplement/0hpMl/simplified-cost-function-and-gradient-descent"
   ]
  },
  {
   "cell_type": "markdown",
   "id": "bbcd946e-d9e6-4668-be93-3a01c72f805a",
   "metadata": {},
   "source": [
    "<pre>\n",
    "NOTE: Capital letters are used to denote variables in matrix form.\n",
    "@ is the operator for matrix multiplication, also known as dot product.\n",
    "\n",
    "- Need to use X @ W instead of W @ X due to the nature of matrix multiplication.\n",
    "Best fit equation for logits: y_proba = X @ W + b\n",
    "Cost function is cross-entropy loss, or log loss: \n",
    "J = (-1 / m) * (y.T @ np.log(y_proba) + (1 - y).T @ np.log(1 - y_proba))\n",
    "  = (-1 / m) * (y.T @ np.log(X @ W + b) + (1 - y).T @ np.log(1 - X @ W - b))\n",
    "\n",
    "- Dot product already includes the operation of summing up along the corresponding axis,\n",
    "therefore np.sum is not required.\n",
    "\n",
    "Reference for derivative:\n",
    "https://medium.com/analytics-vidhya/derivative-of-log-loss-function-for-logistic-regression-9b832f025c2d\n",
    "\n",
    "dW = (1 / m) * (X.T @ (y_proba - y))\n",
    "db = (1 / m) * np.sum(y_proba - y)\n",
    "</pre>"
   ]
  },
  {
   "cell_type": "code",
   "execution_count": 42,
   "id": "b775b57f-cb1c-4260-9486-62500efd6bd0",
   "metadata": {
    "tags": []
   },
   "outputs": [],
   "source": [
    "def init_params(X):\n",
    "    \"\"\"Randomly initializing parameters\"\"\"\n",
    "    print(\"[INFO] Initialized parameters.\")\n",
    "    n_features = X.shape[1]  # number of features\n",
    "    params = {}\n",
    "    params['coef'] = np.random.randn(n_features, 1)  # the matrix for slope coefficients\n",
    "    params['intercept'] = np.random.randn(1, 1)  # the y-intercept\n",
    "    return params\n",
    "\n",
    "def get_logits(X, params):\n",
    "    # logits = log(odds) = X@W + b\n",
    "    \n",
    "    # target_cnt = np.sum(full_data[:, -1] == target)\n",
    "    # logits = np.log(target_cnt)\n",
    "    return X @ params['coef'] + params['intercept']\n",
    "\n",
    "# logits_list = []\n",
    "def get_proba(X, params):\n",
    "    \"\"\"\n",
    "    Basically identical to sigmoid function, \n",
    "    also known as logistic function.\n",
    "    Used to get probability for binary classification.\n",
    "    \"\"\"\n",
    "    # target = idx if from_target else full_data[idx, -1]\n",
    "    if 'coef' not in params:\n",
    "        params = init_params(X)\n",
    "    logits = get_logits(X, params)\n",
    "    # logits_list.append(logits)\n",
    "    return 1 / (1 + np.exp(-logits))\n",
    "\n",
    "def fit(X, y, learning_rate=0.05, iterations=1000):\n",
    "    if isinstance(X, pd.DataFrame):\n",
    "        # convert Dataframe to numpy for faster computations \n",
    "        X = X.values\n",
    "    params = init_params(X)\n",
    "    m = X.shape[0]  # number of samples\n",
    "    \n",
    "    print(\"[INFO] Training ...\")\n",
    "    for i in range(iterations):\n",
    "        # make predictions by computing probability\n",
    "        y_proba = get_proba(X, params)\n",
    "        \n",
    "        # calculate gradients via derivatives with loss function (refer above)\n",
    "        dW = (1 / m) * (X.T @ (y_proba - y))\n",
    "        db = (1 / m) * np.sum(y_proba - y)\n",
    "        \n",
    "        # use gradient descent to update parameters\n",
    "        # parameter = parameter - learning_rate * derivative_of_parameter\n",
    "        params['coef'] -= (learning_rate * dW)\n",
    "        params['intercept'] -= (learning_rate * db)\n",
    "    \n",
    "    return params\n",
    "\n",
    "def predict_proba(X, params):\n",
    "    return get_proba(X, params)\n",
    "\n",
    "def predict(X, params, threshold=0.5):\n",
    "    y_proba = get_proba(X, params)\n",
    "    y_pred = np.where(y_proba > threshold, 1, 0)\n",
    "    return y_pred"
   ]
  },
  {
   "cell_type": "code",
   "execution_count": 16,
   "id": "9c508713-9c39-4047-a944-8e40830698fc",
   "metadata": {},
   "outputs": [
    {
     "data": {
      "text/plain": [
       "(455, 1)"
      ]
     },
     "execution_count": 16,
     "metadata": {},
     "output_type": "execute_result"
    }
   ],
   "source": [
    "y_train.shape"
   ]
  },
  {
   "cell_type": "code",
   "execution_count": 131,
   "id": "23a761be-cf16-436a-a5eb-bcdb3c9292bf",
   "metadata": {},
   "outputs": [
    {
     "name": "stdout",
     "output_type": "stream",
     "text": [
      "[INFO] Initialized parameters.\n",
      "[INFO] Training ...\n"
     ]
    },
    {
     "data": {
      "text/plain": [
       "((30, 1), (1, 1))"
      ]
     },
     "execution_count": 131,
     "metadata": {},
     "output_type": "execute_result"
    }
   ],
   "source": [
    "params = fit(X_train, y_train, learning_rate=0.05, iterations=1000)\n",
    "params['coef'].shape, params['intercept'].shape"
   ]
  },
  {
   "cell_type": "code",
   "execution_count": 132,
   "id": "f0411e1a-8f41-45f8-bd3e-16b92740b1ec",
   "metadata": {},
   "outputs": [
    {
     "data": {
      "text/plain": [
       "(114, 1)"
      ]
     },
     "execution_count": 132,
     "metadata": {},
     "output_type": "execute_result"
    }
   ],
   "source": [
    "y_pred = predict(X_test, params)\n",
    "y_pred.shape"
   ]
  },
  {
   "cell_type": "code",
   "execution_count": 159,
   "id": "0e655864-5178-46d8-ab61-c5745190df15",
   "metadata": {},
   "outputs": [
    {
     "name": "stdout",
     "output_type": "stream",
     "text": [
      "0.9736842105263158\n",
      "[[41  2]\n",
      " [ 1 70]]\n"
     ]
    }
   ],
   "source": [
    "from sklearn.metrics import accuracy_score, confusion_matrix\n",
    "print(accuracy_score(y_test, y_pred))\n",
    "print(confusion_matrix(y_test, y_pred))"
   ]
  },
  {
   "cell_type": "code",
   "execution_count": 160,
   "id": "9d0a25ad-6962-42b7-a1e6-890934cf925f",
   "metadata": {},
   "outputs": [
    {
     "name": "stdout",
     "output_type": "stream",
     "text": [
      "0.9736842105263158\n",
      "[[42  1]\n",
      " [ 2 69]]\n"
     ]
    }
   ],
   "source": [
    "# penalty='none' for no regularization\n",
    "# solver='sag' for closer result with normal gradient descent\n",
    "log_reg = LogisticRegression(penalty='none', solver='sag', max_iter=1000, random_state=42)\n",
    "log_reg.fit(X_train, y_train)\n",
    "sk_y_pred = log_reg.predict(X_test)\n",
    "print(accuracy_score(y_test, sk_y_pred))\n",
    "print(confusion_matrix(y_test, sk_y_pred))"
   ]
  },
  {
   "cell_type": "code",
   "execution_count": 161,
   "id": "4058bbed-f617-4c25-92f0-dc3c71a15738",
   "metadata": {},
   "outputs": [
    {
     "data": {
      "text/plain": [
       "0.9758241758241759"
      ]
     },
     "execution_count": 161,
     "metadata": {},
     "output_type": "execute_result"
    }
   ],
   "source": [
    "log_reg = LogisticRegression(penalty='none', solver='sag', random_state=42)\n",
    "np.mean(cross_val_score(log_reg, X_train, y_train, cv=5))"
   ]
  },
  {
   "cell_type": "code",
   "execution_count": 162,
   "id": "5f679c62-15f5-4cad-9d08-284b3ba1f04d",
   "metadata": {},
   "outputs": [
    {
     "name": "stdout",
     "output_type": "stream",
     "text": [
      "Solver\t\tAccuracy\n",
      "------\t\t--------\n",
      "liblinear     \t0.976\n",
      "newton-cg     \t0.974\n",
      "lbfgs     \t0.974\n",
      "sag     \t0.976\n",
      "saga     \t0.976\n"
     ]
    }
   ],
   "source": [
    "solver_list = ['liblinear', 'newton-cg', 'lbfgs', 'sag', 'saga']\n",
    "params = dict(solver=solver_list)\n",
    "log_reg = LogisticRegression(C=1, random_state=42)\n",
    "clf = GridSearchCV(log_reg, params, cv=5)\n",
    "clf.fit(X_train, y_train.reshape(-1))\n",
    "scores = clf.cv_results_['mean_test_score']\n",
    "\n",
    "print(\"Solver\\t\\tAccuracy\")\n",
    "print(\"-\" * 6 + \"\\t\\t\" + \"-\" * 8)\n",
    "for score, solver in zip(scores, solver_list):\n",
    "    print(f\"{solver}     \\t{score:.3f}\" )"
   ]
  },
  {
   "cell_type": "code",
   "execution_count": 175,
   "id": "020b1307-4d7d-4ef2-a8d5-e621e40d4736",
   "metadata": {},
   "outputs": [],
   "source": [
    "from sklearn.base import BaseEstimator\n",
    "\n",
    "class MyLogisticReg(BaseEstimator):\n",
    "    def __init__(self):\n",
    "        self.params = {}\n",
    "\n",
    "    def init_params(self, X):\n",
    "        \"\"\"Randomly initializing parameters\"\"\"\n",
    "        print(\"[INFO] Initialized parameters.\")\n",
    "        n_features = X.shape[1]  # number of features\n",
    "        self.params['coef'] = np.random.randn(n_features, 1)  # the matrix for slope coefficients\n",
    "        self.params['intercept'] = np.random.randn(1, 1)  # the y-intercept\n",
    "\n",
    "    def get_logits(self, X):\n",
    "        # logits = log(odds) = X@W + b\n",
    "        return X @ self.params['coef'] + self.params['intercept']\n",
    "\n",
    "    def get_proba(self, X):\n",
    "        \"\"\"\n",
    "        Basically identical to sigmoid function, \n",
    "        also known as logistic function.\n",
    "        Used to get probability for binary classification.\n",
    "        \"\"\"\n",
    "        if 'coef' not in self.params:\n",
    "            self.params = self.init_params(X)\n",
    "        logits = self.get_logits(X)\n",
    "        return 1 / (1 + np.exp(-logits))\n",
    "\n",
    "    def fit(self, X, y, learning_rate=0.05, iterations=1000):\n",
    "        if isinstance(X, pd.DataFrame):\n",
    "            # convert Dataframe to numpy for faster computations \n",
    "            X = X.values\n",
    "        # initialize parameters\n",
    "        self.init_params(X)\n",
    "        m = X.shape[0]  # number of samples\n",
    "\n",
    "        print(\"[INFO] Training ...\")\n",
    "        for i in range(iterations):\n",
    "            # make predictions by computing probability\n",
    "            y_proba = self.get_proba(X)\n",
    "\n",
    "            # calculate gradients via derivatives \n",
    "            #  with respect to loss function (refer above)\n",
    "            dW = (1 / m) * (X.T @ (y_proba - y))\n",
    "            db = (1 / m) * np.sum(y_proba - y)\n",
    "\n",
    "            # use gradient descent to update parameters\n",
    "            # parameter = parameter - (learning_rate * derivative_of_parameter)\n",
    "            self.params['coef'] -= (learning_rate * dW)\n",
    "            self.params['intercept'] -= (learning_rate * db)\n",
    "\n",
    "    def predict_proba(self, X):\n",
    "        return self.get_proba(X)\n",
    "\n",
    "    def predict(self, X, threshold=0.5):\n",
    "        y_proba = self.get_proba(X)\n",
    "        y_pred = np.where(y_proba > threshold, 1, 0)\n",
    "        return y_pred\n",
    "    \n",
    "    def score(self, X, y):\n",
    "        from sklearn.metrics import accuracy_score\n",
    "        y_pred = self.predict(X)\n",
    "        return accuracy_score(y, y_pred)"
   ]
  },
  {
   "cell_type": "code",
   "execution_count": 190,
   "id": "822061b2-8af7-4eca-a5ab-79cd6fd75026",
   "metadata": {},
   "outputs": [
    {
     "name": "stdout",
     "output_type": "stream",
     "text": [
      "[INFO] Initialized parameters.\n",
      "[INFO] Training ...\n",
      "Accuracy = 0.9824561403508771\n"
     ]
    }
   ],
   "source": [
    "my_log_reg = MyLogisticReg()\n",
    "my_log_reg.fit(X_train, y_train, learning_rate=0.05, iterations=2000)\n",
    "print(\"Accuracy =\", my_log_reg.score(X_test, y_test))"
   ]
  },
  {
   "cell_type": "code",
   "execution_count": 191,
   "id": "9163aaa5-e8d3-49d1-a876-59c659d28fa9",
   "metadata": {},
   "outputs": [
    {
     "name": "stdout",
     "output_type": "stream",
     "text": [
      "[INFO] Initialized parameters.\n",
      "[INFO] Training ...\n",
      "[INFO] Initialized parameters.\n",
      "[INFO] Training ...\n",
      "[INFO] Initialized parameters.\n",
      "[INFO] Training ...\n",
      "[INFO] Initialized parameters.\n",
      "[INFO] Training ...\n",
      "[INFO] Initialized parameters.\n",
      "[INFO] Training ...\n"
     ]
    },
    {
     "data": {
      "text/plain": [
       "0.9692307692307691"
      ]
     },
     "execution_count": 191,
     "metadata": {},
     "output_type": "execute_result"
    }
   ],
   "source": [
    "np.mean(cross_val_score(my_log_reg, X_train, y_train, cv=5))"
   ]
  },
  {
   "cell_type": "code",
   "execution_count": null,
   "id": "23f8b9e6-2c0a-46c9-b54b-39bd504269a9",
   "metadata": {},
   "outputs": [],
   "source": []
  }
 ],
 "metadata": {
  "kernelspec": {
   "display_name": "Python 3",
   "language": "python",
   "name": "python3"
  },
  "language_info": {
   "codemirror_mode": {
    "name": "ipython",
    "version": 3
   },
   "file_extension": ".py",
   "mimetype": "text/x-python",
   "name": "python",
   "nbconvert_exporter": "python",
   "pygments_lexer": "ipython3",
   "version": "3.8.8"
  }
 },
 "nbformat": 4,
 "nbformat_minor": 5
}
